{
  "nbformat": 4,
  "nbformat_minor": 0,
  "metadata": {
    "colab": {
      "provenance": []
    },
    "kernelspec": {
      "name": "python3",
      "display_name": "Python 3"
    },
    "language_info": {
      "name": "python"
    }
  },
  "cells": [
    {
      "cell_type": "markdown",
      "source": [
        "Deep Learning\n",
        "\n",
        "Name: Jason\n",
        "\n",
        "DATASET: BANK MARKETING"
      ],
      "metadata": {
        "id": "OQzzWae7vGDw"
      }
    },
    {
      "cell_type": "code",
      "execution_count": null,
      "metadata": {
        "colab": {
          "base_uri": "https://localhost:8080/"
        },
        "id": "jFp60Y3Q69kZ",
        "outputId": "0f84b06f-4ce4-4104-d26d-3a3c952e1353"
      },
      "outputs": [
        {
          "output_type": "stream",
          "name": "stdout",
          "text": [
            "Mounted at /drive\n"
          ]
        }
      ],
      "source": [
        "from google.colab import drive\n",
        "drive.mount('/drive')"
      ]
    },
    {
      "cell_type": "code",
      "source": [
        "# Import necessary libraries\n",
        "import pandas as pd\n",
        "import numpy as np\n",
        "import matplotlib.pyplot as plt # visualisation\n",
        "import seaborn as sns  # visualisation\n",
        "from sklearn.preprocessing import LabelEncoder # label encoding\n",
        "from sklearn.preprocessing import OneHotEncoder # one hot encoding\n",
        "from sklearn.ensemble import RandomForestClassifier # for feature selection\n",
        "\n",
        "!pip install Boruta\n",
        "from boruta import BorutaPy # for feature selection\n",
        "from sklearn.model_selection import train_test_split # train-test split\n",
        "from sklearn.preprocessing import MinMaxScaler # data normalisation\n",
        "\n",
        "from sklearn.neural_network import MLPClassifier # For ANN model (sklearn)\n",
        "\n",
        "from keras.layers import Dropout # to counter model overfit issues\n",
        "from keras.models import Sequential # For ANN / RNN / LSTM model (keras)\n",
        "from keras.layers import Dense, Embedding, SimpleRNN, LSTM, GRU # For ANN / RNN / LSTM model (keras)\n",
        "from keras.preprocessing import sequence # For ANN / RNN / LSTM model (keras)\n",
        "\n",
        "\n",
        "from sklearn.metrics import confusion_matrix # performance evaluation\n",
        "from sklearn.metrics import classification_report # performance evaluation metrics\n",
        "\n",
        "from keras.utils.vis_utils import plot_model # to visualise the neural network\n",
        "!pip install keras_sequential_ascii\n",
        "from keras_sequential_ascii import keras2ascii # to visualise the neural network"
      ],
      "metadata": {
        "colab": {
          "base_uri": "https://localhost:8080/"
        },
        "id": "JOaKq4XX7nCT",
        "outputId": "66ff7d18-f55a-4f27-cfb9-fef44dd6df17"
      },
      "execution_count": null,
      "outputs": [
        {
          "output_type": "stream",
          "name": "stdout",
          "text": [
            "Looking in indexes: https://pypi.org/simple, https://us-python.pkg.dev/colab-wheels/public/simple/\n",
            "Collecting Boruta\n",
            "  Downloading Boruta-0.3-py3-none-any.whl (56 kB)\n",
            "\u001b[K     |████████████████████████████████| 56 kB 2.1 MB/s \n",
            "\u001b[?25hRequirement already satisfied: scikit-learn>=0.17.1 in /usr/local/lib/python3.7/dist-packages (from Boruta) (1.0.2)\n",
            "Requirement already satisfied: numpy>=1.10.4 in /usr/local/lib/python3.7/dist-packages (from Boruta) (1.21.6)\n",
            "Requirement already satisfied: scipy>=0.17.0 in /usr/local/lib/python3.7/dist-packages (from Boruta) (1.7.3)\n",
            "Requirement already satisfied: threadpoolctl>=2.0.0 in /usr/local/lib/python3.7/dist-packages (from scikit-learn>=0.17.1->Boruta) (3.1.0)\n",
            "Requirement already satisfied: joblib>=0.11 in /usr/local/lib/python3.7/dist-packages (from scikit-learn>=0.17.1->Boruta) (1.1.0)\n",
            "Installing collected packages: Boruta\n",
            "Successfully installed Boruta-0.3\n",
            "Looking in indexes: https://pypi.org/simple, https://us-python.pkg.dev/colab-wheels/public/simple/\n",
            "Collecting keras_sequential_ascii\n",
            "  Downloading keras_sequential_ascii-0.1.1.tar.gz (3.5 kB)\n",
            "Requirement already satisfied: keras in /usr/local/lib/python3.7/dist-packages (from keras_sequential_ascii) (2.8.0)\n",
            "Building wheels for collected packages: keras-sequential-ascii\n",
            "  Building wheel for keras-sequential-ascii (setup.py) ... \u001b[?25l\u001b[?25hdone\n",
            "  Created wheel for keras-sequential-ascii: filename=keras_sequential_ascii-0.1.1-py3-none-any.whl size=3063 sha256=b0b57f6464abaaa6ebb55df26947043c91a755ef71c095666c206259647929fe\n",
            "  Stored in directory: /root/.cache/pip/wheels/4e/99/75/8910ced4b40e8c20088c237fa706b32ac758321482ae2659e3\n",
            "Successfully built keras-sequential-ascii\n",
            "Installing collected packages: keras-sequential-ascii\n",
            "Successfully installed keras-sequential-ascii-0.1.1\n"
          ]
        }
      ]
    },
    {
      "cell_type": "code",
      "source": [
        "# load dataset\n",
        "path = '/drive/MyDrive/Colab Notebooks/[FINAL]bank mkt.txt'"
      ],
      "metadata": {
        "id": "Ga9BfhMQ7r22"
      },
      "execution_count": null,
      "outputs": []
    },
    {
      "cell_type": "code",
      "source": [
        "# show a few rows of the data\n",
        "import pandas as pd\n",
        "data = pd.read_csv(path)\n",
        "data.head()"
      ],
      "metadata": {
        "colab": {
          "base_uri": "https://localhost:8080/",
          "height": 206
        },
        "id": "DhOeL_Ym7tYi",
        "outputId": "66dcc0c5-3bbe-4ed2-f342-fc8543484fcf"
      },
      "execution_count": null,
      "outputs": [
        {
          "output_type": "execute_result",
          "data": {
            "text/plain": [
              "   age           job  marital  education default  balance housing loan  \\\n",
              "0   58    management  married   tertiary      no     2143     yes   no   \n",
              "1   44    technician   single  secondary      no       29     yes   no   \n",
              "2   33  entrepreneur  married  secondary      no        2     yes  yes   \n",
              "3   47   blue-collar  married    unknown      no     1506     yes   no   \n",
              "4   33       unknown   single    unknown      no        1      no   no   \n",
              "\n",
              "   contact  day month  duration  campaign  pdays  previous poutcome   y  \n",
              "0  unknown    5   may       261         1     -1         0  unknown  no  \n",
              "1  unknown    5   may       151         1     -1         0  unknown  no  \n",
              "2  unknown    5   may        76         1     -1         0  unknown  no  \n",
              "3  unknown    5   may        92         1     -1         0  unknown  no  \n",
              "4  unknown    5   may       198         1     -1         0  unknown  no  "
            ],
            "text/html": [
              "\n",
              "  <div id=\"df-e0e56000-36f6-4adb-94c7-700bdea3bb08\">\n",
              "    <div class=\"colab-df-container\">\n",
              "      <div>\n",
              "<style scoped>\n",
              "    .dataframe tbody tr th:only-of-type {\n",
              "        vertical-align: middle;\n",
              "    }\n",
              "\n",
              "    .dataframe tbody tr th {\n",
              "        vertical-align: top;\n",
              "    }\n",
              "\n",
              "    .dataframe thead th {\n",
              "        text-align: right;\n",
              "    }\n",
              "</style>\n",
              "<table border=\"1\" class=\"dataframe\">\n",
              "  <thead>\n",
              "    <tr style=\"text-align: right;\">\n",
              "      <th></th>\n",
              "      <th>age</th>\n",
              "      <th>job</th>\n",
              "      <th>marital</th>\n",
              "      <th>education</th>\n",
              "      <th>default</th>\n",
              "      <th>balance</th>\n",
              "      <th>housing</th>\n",
              "      <th>loan</th>\n",
              "      <th>contact</th>\n",
              "      <th>day</th>\n",
              "      <th>month</th>\n",
              "      <th>duration</th>\n",
              "      <th>campaign</th>\n",
              "      <th>pdays</th>\n",
              "      <th>previous</th>\n",
              "      <th>poutcome</th>\n",
              "      <th>y</th>\n",
              "    </tr>\n",
              "  </thead>\n",
              "  <tbody>\n",
              "    <tr>\n",
              "      <th>0</th>\n",
              "      <td>58</td>\n",
              "      <td>management</td>\n",
              "      <td>married</td>\n",
              "      <td>tertiary</td>\n",
              "      <td>no</td>\n",
              "      <td>2143</td>\n",
              "      <td>yes</td>\n",
              "      <td>no</td>\n",
              "      <td>unknown</td>\n",
              "      <td>5</td>\n",
              "      <td>may</td>\n",
              "      <td>261</td>\n",
              "      <td>1</td>\n",
              "      <td>-1</td>\n",
              "      <td>0</td>\n",
              "      <td>unknown</td>\n",
              "      <td>no</td>\n",
              "    </tr>\n",
              "    <tr>\n",
              "      <th>1</th>\n",
              "      <td>44</td>\n",
              "      <td>technician</td>\n",
              "      <td>single</td>\n",
              "      <td>secondary</td>\n",
              "      <td>no</td>\n",
              "      <td>29</td>\n",
              "      <td>yes</td>\n",
              "      <td>no</td>\n",
              "      <td>unknown</td>\n",
              "      <td>5</td>\n",
              "      <td>may</td>\n",
              "      <td>151</td>\n",
              "      <td>1</td>\n",
              "      <td>-1</td>\n",
              "      <td>0</td>\n",
              "      <td>unknown</td>\n",
              "      <td>no</td>\n",
              "    </tr>\n",
              "    <tr>\n",
              "      <th>2</th>\n",
              "      <td>33</td>\n",
              "      <td>entrepreneur</td>\n",
              "      <td>married</td>\n",
              "      <td>secondary</td>\n",
              "      <td>no</td>\n",
              "      <td>2</td>\n",
              "      <td>yes</td>\n",
              "      <td>yes</td>\n",
              "      <td>unknown</td>\n",
              "      <td>5</td>\n",
              "      <td>may</td>\n",
              "      <td>76</td>\n",
              "      <td>1</td>\n",
              "      <td>-1</td>\n",
              "      <td>0</td>\n",
              "      <td>unknown</td>\n",
              "      <td>no</td>\n",
              "    </tr>\n",
              "    <tr>\n",
              "      <th>3</th>\n",
              "      <td>47</td>\n",
              "      <td>blue-collar</td>\n",
              "      <td>married</td>\n",
              "      <td>unknown</td>\n",
              "      <td>no</td>\n",
              "      <td>1506</td>\n",
              "      <td>yes</td>\n",
              "      <td>no</td>\n",
              "      <td>unknown</td>\n",
              "      <td>5</td>\n",
              "      <td>may</td>\n",
              "      <td>92</td>\n",
              "      <td>1</td>\n",
              "      <td>-1</td>\n",
              "      <td>0</td>\n",
              "      <td>unknown</td>\n",
              "      <td>no</td>\n",
              "    </tr>\n",
              "    <tr>\n",
              "      <th>4</th>\n",
              "      <td>33</td>\n",
              "      <td>unknown</td>\n",
              "      <td>single</td>\n",
              "      <td>unknown</td>\n",
              "      <td>no</td>\n",
              "      <td>1</td>\n",
              "      <td>no</td>\n",
              "      <td>no</td>\n",
              "      <td>unknown</td>\n",
              "      <td>5</td>\n",
              "      <td>may</td>\n",
              "      <td>198</td>\n",
              "      <td>1</td>\n",
              "      <td>-1</td>\n",
              "      <td>0</td>\n",
              "      <td>unknown</td>\n",
              "      <td>no</td>\n",
              "    </tr>\n",
              "  </tbody>\n",
              "</table>\n",
              "</div>\n",
              "      <button class=\"colab-df-convert\" onclick=\"convertToInteractive('df-e0e56000-36f6-4adb-94c7-700bdea3bb08')\"\n",
              "              title=\"Convert this dataframe to an interactive table.\"\n",
              "              style=\"display:none;\">\n",
              "        \n",
              "  <svg xmlns=\"http://www.w3.org/2000/svg\" height=\"24px\"viewBox=\"0 0 24 24\"\n",
              "       width=\"24px\">\n",
              "    <path d=\"M0 0h24v24H0V0z\" fill=\"none\"/>\n",
              "    <path d=\"M18.56 5.44l.94 2.06.94-2.06 2.06-.94-2.06-.94-.94-2.06-.94 2.06-2.06.94zm-11 1L8.5 8.5l.94-2.06 2.06-.94-2.06-.94L8.5 2.5l-.94 2.06-2.06.94zm10 10l.94 2.06.94-2.06 2.06-.94-2.06-.94-.94-2.06-.94 2.06-2.06.94z\"/><path d=\"M17.41 7.96l-1.37-1.37c-.4-.4-.92-.59-1.43-.59-.52 0-1.04.2-1.43.59L10.3 9.45l-7.72 7.72c-.78.78-.78 2.05 0 2.83L4 21.41c.39.39.9.59 1.41.59.51 0 1.02-.2 1.41-.59l7.78-7.78 2.81-2.81c.8-.78.8-2.07 0-2.86zM5.41 20L4 18.59l7.72-7.72 1.47 1.35L5.41 20z\"/>\n",
              "  </svg>\n",
              "      </button>\n",
              "      \n",
              "  <style>\n",
              "    .colab-df-container {\n",
              "      display:flex;\n",
              "      flex-wrap:wrap;\n",
              "      gap: 12px;\n",
              "    }\n",
              "\n",
              "    .colab-df-convert {\n",
              "      background-color: #E8F0FE;\n",
              "      border: none;\n",
              "      border-radius: 50%;\n",
              "      cursor: pointer;\n",
              "      display: none;\n",
              "      fill: #1967D2;\n",
              "      height: 32px;\n",
              "      padding: 0 0 0 0;\n",
              "      width: 32px;\n",
              "    }\n",
              "\n",
              "    .colab-df-convert:hover {\n",
              "      background-color: #E2EBFA;\n",
              "      box-shadow: 0px 1px 2px rgba(60, 64, 67, 0.3), 0px 1px 3px 1px rgba(60, 64, 67, 0.15);\n",
              "      fill: #174EA6;\n",
              "    }\n",
              "\n",
              "    [theme=dark] .colab-df-convert {\n",
              "      background-color: #3B4455;\n",
              "      fill: #D2E3FC;\n",
              "    }\n",
              "\n",
              "    [theme=dark] .colab-df-convert:hover {\n",
              "      background-color: #434B5C;\n",
              "      box-shadow: 0px 1px 3px 1px rgba(0, 0, 0, 0.15);\n",
              "      filter: drop-shadow(0px 1px 2px rgba(0, 0, 0, 0.3));\n",
              "      fill: #FFFFFF;\n",
              "    }\n",
              "  </style>\n",
              "\n",
              "      <script>\n",
              "        const buttonEl =\n",
              "          document.querySelector('#df-e0e56000-36f6-4adb-94c7-700bdea3bb08 button.colab-df-convert');\n",
              "        buttonEl.style.display =\n",
              "          google.colab.kernel.accessAllowed ? 'block' : 'none';\n",
              "\n",
              "        async function convertToInteractive(key) {\n",
              "          const element = document.querySelector('#df-e0e56000-36f6-4adb-94c7-700bdea3bb08');\n",
              "          const dataTable =\n",
              "            await google.colab.kernel.invokeFunction('convertToInteractive',\n",
              "                                                     [key], {});\n",
              "          if (!dataTable) return;\n",
              "\n",
              "          const docLinkHtml = 'Like what you see? Visit the ' +\n",
              "            '<a target=\"_blank\" href=https://colab.research.google.com/notebooks/data_table.ipynb>data table notebook</a>'\n",
              "            + ' to learn more about interactive tables.';\n",
              "          element.innerHTML = '';\n",
              "          dataTable['output_type'] = 'display_data';\n",
              "          await google.colab.output.renderOutput(dataTable, element);\n",
              "          const docLink = document.createElement('div');\n",
              "          docLink.innerHTML = docLinkHtml;\n",
              "          element.appendChild(docLink);\n",
              "        }\n",
              "      </script>\n",
              "    </div>\n",
              "  </div>\n",
              "  "
            ]
          },
          "metadata": {},
          "execution_count": 4
        }
      ]
    },
    {
      "cell_type": "code",
      "source": [
        "# Get a breif overview of the shape of dataset\n",
        "data.shape"
      ],
      "metadata": {
        "colab": {
          "base_uri": "https://localhost:8080/"
        },
        "id": "BPUNhVil7vrS",
        "outputId": "1f1002c7-8db3-46e2-ca37-714f1afb2ef7"
      },
      "execution_count": null,
      "outputs": [
        {
          "output_type": "execute_result",
          "data": {
            "text/plain": [
              "(45211, 17)"
            ]
          },
          "metadata": {},
          "execution_count": 5
        }
      ]
    },
    {
      "cell_type": "code",
      "source": [
        "# to have a deeper understanding of the data types for each variable\n",
        "data.info()"
      ],
      "metadata": {
        "colab": {
          "base_uri": "https://localhost:8080/"
        },
        "id": "MMgxiGHQ2IVk",
        "outputId": "3a558cc3-436b-4005-c04e-0038eff3672d"
      },
      "execution_count": null,
      "outputs": [
        {
          "output_type": "stream",
          "name": "stdout",
          "text": [
            "<class 'pandas.core.frame.DataFrame'>\n",
            "RangeIndex: 45211 entries, 0 to 45210\n",
            "Data columns (total 17 columns):\n",
            " #   Column     Non-Null Count  Dtype \n",
            "---  ------     --------------  ----- \n",
            " 0   age        45211 non-null  int64 \n",
            " 1   job        45211 non-null  object\n",
            " 2   marital    45211 non-null  object\n",
            " 3   education  45211 non-null  object\n",
            " 4   default    45211 non-null  object\n",
            " 5   balance    45211 non-null  int64 \n",
            " 6   housing    45211 non-null  object\n",
            " 7   loan       45211 non-null  object\n",
            " 8   contact    45211 non-null  object\n",
            " 9   day        45211 non-null  int64 \n",
            " 10  month      45211 non-null  object\n",
            " 11  duration   45211 non-null  int64 \n",
            " 12  campaign   45211 non-null  int64 \n",
            " 13  pdays      45211 non-null  int64 \n",
            " 14  previous   45211 non-null  int64 \n",
            " 15  poutcome   45211 non-null  object\n",
            " 16  y          45211 non-null  object\n",
            "dtypes: int64(7), object(10)\n",
            "memory usage: 5.9+ MB\n"
          ]
        }
      ]
    },
    {
      "cell_type": "markdown",
      "source": [
        "Exploratory Data Exploration"
      ],
      "metadata": {
        "id": "2B8-AASJ9No2"
      }
    },
    {
      "cell_type": "code",
      "source": [
        "# univariate analysis\n",
        "# distribution plot of the 'age' variable\n",
        "age_distribution = sns.distplot(data['age'])\n",
        "age_distribution"
      ],
      "metadata": {
        "colab": {
          "base_uri": "https://localhost:8080/",
          "height": 351
        },
        "id": "Y3MQVPIY-_8M",
        "outputId": "80123d3e-07f4-4563-8add-30120a84e24f"
      },
      "execution_count": null,
      "outputs": [
        {
          "output_type": "stream",
          "name": "stderr",
          "text": [
            "/usr/local/lib/python3.7/dist-packages/seaborn/distributions.py:2619: FutureWarning: `distplot` is a deprecated function and will be removed in a future version. Please adapt your code to use either `displot` (a figure-level function with similar flexibility) or `histplot` (an axes-level function for histograms).\n",
            "  warnings.warn(msg, FutureWarning)\n"
          ]
        },
        {
          "output_type": "execute_result",
          "data": {
            "text/plain": [
              "<matplotlib.axes._subplots.AxesSubplot at 0x7f8143ff5310>"
            ]
          },
          "metadata": {},
          "execution_count": 9
        },
        {
          "output_type": "display_data",
          "data": {
            "text/plain": [
              "<Figure size 432x288 with 1 Axes>"
            ],
            "image/png": "[encoded data removed]"
          },
          "metadata": {
            "needs_background": "light"
          }
        }
      ]
    },
    {
      "cell_type": "code",
      "source": [
        "# bivariate analysis\n",
        "# duration vs. target variable 'y'\n",
        "# Categorical vs. numerical\n",
        "sns.boxplot(x= 'y', y = 'duration', data=data)\n",
        "plt.show()"
      ],
      "metadata": {
        "colab": {
          "base_uri": "https://localhost:8080/",
          "height": 279
        },
        "id": "1x0AF3aB9QCH",
        "outputId": "85ae0b45-f503-4628-d73a-7eb8a138fa88"
      },
      "execution_count": null,
      "outputs": [
        {
          "output_type": "display_data",
          "data": {
            "text/plain": [
              "<Figure size 432x288 with 1 Axes>"
            ],
            "image/png": "[encoded data removed]"
          },
          "metadata": {
            "needs_background": "light"
          }
        }
      ]
    },
    {
      "cell_type": "code",
      "source": [
        "# bivariate analysis\n",
        "# job vs. target variable 'y'\n",
        "# Categorical vs. Categorical\n",
        "data.groupby(['job','y']).job.count().unstack().plot.bar(stacked=True)"
      ],
      "metadata": {
        "colab": {
          "base_uri": "https://localhost:8080/",
          "height": 357
        },
        "id": "cZyg8MvyALob",
        "outputId": "10adb7bc-3007-44f0-df14-42a51155199b"
      },
      "execution_count": null,
      "outputs": [
        {
          "output_type": "execute_result",
          "data": {
            "text/plain": [
              "<matplotlib.axes._subplots.AxesSubplot at 0x7f81414ff1d0>"
            ]
          },
          "metadata": {},
          "execution_count": 13
        },
        {
          "output_type": "display_data",
          "data": {
            "text/plain": [
              "<Figure size 432x288 with 1 Axes>"
            ],
            "image/png": "[encoded data removed]"
          },
          "metadata": {
            "needs_background": "light"
          }
        }
      ]
    },
    {
      "cell_type": "markdown",
      "source": [
        "Data Pre-Processing"
      ],
      "metadata": {
        "id": "qNj0_qlr7HaK"
      }
    },
    {
      "cell_type": "markdown",
      "source": [
        "Correlation Analysis"
      ],
      "metadata": {
        "id": "4v58M_Wf70HO"
      }
    },
    {
      "cell_type": "code",
      "source": [
        "# Check for correlation and multicollinearity issues\n",
        "import numpy as np\n",
        "\n",
        "corr = data.corr()\n",
        "correlation = data.corr(method = 'pearson')\n",
        "correlation.style.background_gradient(cmap='coolwarm').set_precision(2)\n",
        "\n",
        "# possible multicolliearity issues between \"previous\" and \"pdays\""
      ],
      "metadata": {
        "colab": {
          "base_uri": "https://localhost:8080/",
          "height": 304
        },
        "id": "KD46BAdE7xJV",
        "outputId": "89112819-1c4e-46ee-c36f-d8ac8f80c474"
      },
      "execution_count": null,
      "outputs": [
        {
          "output_type": "stream",
          "name": "stderr",
          "text": [
            "/usr/local/lib/python3.7/dist-packages/ipykernel_launcher.py:6: FutureWarning: this method is deprecated in favour of `Styler.format(precision=..)`\n",
            "  \n"
          ]
        },
        {
          "output_type": "execute_result",
          "data": {
            "text/plain": [
              "<pandas.io.formats.style.Styler at 0x7f3ce0ba54d0>"
            ],
            "text/html": [
              "<style type=\"text/css\">\n",
              "#T_03051_row0_col0, #T_03051_row1_col1, #T_03051_row2_col2, #T_03051_row3_col3, #T_03051_row4_col4, #T_03051_row5_col5, #T_03051_row6_col6 {\n",
              "  background-color: #b40426;\n",
              "  color: #f1f1f1;\n",
              "}\n",
              "#T_03051_row0_col1 {\n",
              "  background-color: #5d7ce6;\n",
              "  color: #f1f1f1;\n",
              "}\n",
              "#T_03051_row0_col2, #T_03051_row5_col3 {\n",
              "  background-color: #516ddb;\n",
              "  color: #f1f1f1;\n",
              "}\n",
              "#T_03051_row0_col3 {\n",
              "  background-color: #506bda;\n",
              "  color: #f1f1f1;\n",
              "}\n",
              "#T_03051_row0_col4, #T_03051_row3_col5 {\n",
              "  background-color: #5470de;\n",
              "  color: #f1f1f1;\n",
              "}\n",
              "#T_03051_row0_col5, #T_03051_row1_col6 {\n",
              "  background-color: #4e68d8;\n",
              "  color: #f1f1f1;\n",
              "}\n",
              "#T_03051_row0_col6, #T_03051_row2_col3, #T_03051_row3_col6 {\n",
              "  background-color: #4961d2;\n",
              "  color: #f1f1f1;\n",
              "}\n",
              "#T_03051_row1_col0 {\n",
              "  background-color: #5f7fe8;\n",
              "  color: #f1f1f1;\n",
              "}\n",
              "#T_03051_row1_col2, #T_03051_row1_col5 {\n",
              "  background-color: #5572df;\n",
              "  color: #f1f1f1;\n",
              "}\n",
              "#T_03051_row1_col3 {\n",
              "  background-color: #5977e3;\n",
              "  color: #f1f1f1;\n",
              "}\n",
              "#T_03051_row1_col4 {\n",
              "  background-color: #4f69d9;\n",
              "  color: #f1f1f1;\n",
              "}\n",
              "#T_03051_row2_col0 {\n",
              "  background-color: #3e51c5;\n",
              "  color: #f1f1f1;\n",
              "}\n",
              "#T_03051_row2_col1, #T_03051_row3_col0, #T_03051_row4_col6, #T_03051_row5_col1 {\n",
              "  background-color: #3f53c6;\n",
              "  color: #f1f1f1;\n",
              "}\n",
              "#T_03051_row2_col4, #T_03051_row4_col2 {\n",
              "  background-color: #86a9fc;\n",
              "  color: #f1f1f1;\n",
              "}\n",
              "#T_03051_row2_col5, #T_03051_row2_col6, #T_03051_row3_col4, #T_03051_row4_col1, #T_03051_row4_col3, #T_03051_row5_col0, #T_03051_row5_col2, #T_03051_row5_col4 {\n",
              "  background-color: #3b4cc0;\n",
              "  color: #f1f1f1;\n",
              "}\n",
              "#T_03051_row3_col1, #T_03051_row6_col2 {\n",
              "  background-color: #455cce;\n",
              "  color: #f1f1f1;\n",
              "}\n",
              "#T_03051_row3_col2 {\n",
              "  background-color: #4b64d5;\n",
              "  color: #f1f1f1;\n",
              "}\n",
              "#T_03051_row4_col0, #T_03051_row6_col1 {\n",
              "  background-color: #4358cb;\n",
              "  color: #f1f1f1;\n",
              "}\n",
              "#T_03051_row4_col5 {\n",
              "  background-color: #3c4ec2;\n",
              "  color: #f1f1f1;\n",
              "}\n",
              "#T_03051_row5_col6 {\n",
              "  background-color: #d8dce2;\n",
              "  color: #000000;\n",
              "}\n",
              "#T_03051_row6_col0 {\n",
              "  background-color: #4257c9;\n",
              "  color: #f1f1f1;\n",
              "}\n",
              "#T_03051_row6_col3 {\n",
              "  background-color: #536edd;\n",
              "  color: #f1f1f1;\n",
              "}\n",
              "#T_03051_row6_col4 {\n",
              "  background-color: #4a63d3;\n",
              "  color: #f1f1f1;\n",
              "}\n",
              "#T_03051_row6_col5 {\n",
              "  background-color: #dddcdc;\n",
              "  color: #000000;\n",
              "}\n",
              "</style>\n",
              "<table id=\"T_03051_\" class=\"dataframe\">\n",
              "  <thead>\n",
              "    <tr>\n",
              "      <th class=\"blank level0\" >&nbsp;</th>\n",
              "      <th class=\"col_heading level0 col0\" >age</th>\n",
              "      <th class=\"col_heading level0 col1\" >balance</th>\n",
              "      <th class=\"col_heading level0 col2\" >day</th>\n",
              "      <th class=\"col_heading level0 col3\" >duration</th>\n",
              "      <th class=\"col_heading level0 col4\" >campaign</th>\n",
              "      <th class=\"col_heading level0 col5\" >pdays</th>\n",
              "      <th class=\"col_heading level0 col6\" >previous</th>\n",
              "    </tr>\n",
              "  </thead>\n",
              "  <tbody>\n",
              "    <tr>\n",
              "      <th id=\"T_03051_level0_row0\" class=\"row_heading level0 row0\" >age</th>\n",
              "      <td id=\"T_03051_row0_col0\" class=\"data row0 col0\" >1.00</td>\n",
              "      <td id=\"T_03051_row0_col1\" class=\"data row0 col1\" >0.10</td>\n",
              "      <td id=\"T_03051_row0_col2\" class=\"data row0 col2\" >-0.01</td>\n",
              "      <td id=\"T_03051_row0_col3\" class=\"data row0 col3\" >-0.00</td>\n",
              "      <td id=\"T_03051_row0_col4\" class=\"data row0 col4\" >0.00</td>\n",
              "      <td id=\"T_03051_row0_col5\" class=\"data row0 col5\" >-0.02</td>\n",
              "      <td id=\"T_03051_row0_col6\" class=\"data row0 col6\" >0.00</td>\n",
              "    </tr>\n",
              "    <tr>\n",
              "      <th id=\"T_03051_level0_row1\" class=\"row_heading level0 row1\" >balance</th>\n",
              "      <td id=\"T_03051_row1_col0\" class=\"data row1 col0\" >0.10</td>\n",
              "      <td id=\"T_03051_row1_col1\" class=\"data row1 col1\" >1.00</td>\n",
              "      <td id=\"T_03051_row1_col2\" class=\"data row1 col2\" >0.00</td>\n",
              "      <td id=\"T_03051_row1_col3\" class=\"data row1 col3\" >0.02</td>\n",
              "      <td id=\"T_03051_row1_col4\" class=\"data row1 col4\" >-0.01</td>\n",
              "      <td id=\"T_03051_row1_col5\" class=\"data row1 col5\" >0.00</td>\n",
              "      <td id=\"T_03051_row1_col6\" class=\"data row1 col6\" >0.02</td>\n",
              "    </tr>\n",
              "    <tr>\n",
              "      <th id=\"T_03051_level0_row2\" class=\"row_heading level0 row2\" >day</th>\n",
              "      <td id=\"T_03051_row2_col0\" class=\"data row2 col0\" >-0.01</td>\n",
              "      <td id=\"T_03051_row2_col1\" class=\"data row2 col1\" >0.00</td>\n",
              "      <td id=\"T_03051_row2_col2\" class=\"data row2 col2\" >1.00</td>\n",
              "      <td id=\"T_03051_row2_col3\" class=\"data row2 col3\" >-0.03</td>\n",
              "      <td id=\"T_03051_row2_col4\" class=\"data row2 col4\" >0.16</td>\n",
              "      <td id=\"T_03051_row2_col5\" class=\"data row2 col5\" >-0.09</td>\n",
              "      <td id=\"T_03051_row2_col6\" class=\"data row2 col6\" >-0.05</td>\n",
              "    </tr>\n",
              "    <tr>\n",
              "      <th id=\"T_03051_level0_row3\" class=\"row_heading level0 row3\" >duration</th>\n",
              "      <td id=\"T_03051_row3_col0\" class=\"data row3 col0\" >-0.00</td>\n",
              "      <td id=\"T_03051_row3_col1\" class=\"data row3 col1\" >0.02</td>\n",
              "      <td id=\"T_03051_row3_col2\" class=\"data row3 col2\" >-0.03</td>\n",
              "      <td id=\"T_03051_row3_col3\" class=\"data row3 col3\" >1.00</td>\n",
              "      <td id=\"T_03051_row3_col4\" class=\"data row3 col4\" >-0.08</td>\n",
              "      <td id=\"T_03051_row3_col5\" class=\"data row3 col5\" >-0.00</td>\n",
              "      <td id=\"T_03051_row3_col6\" class=\"data row3 col6\" >0.00</td>\n",
              "    </tr>\n",
              "    <tr>\n",
              "      <th id=\"T_03051_level0_row4\" class=\"row_heading level0 row4\" >campaign</th>\n",
              "      <td id=\"T_03051_row4_col0\" class=\"data row4 col0\" >0.00</td>\n",
              "      <td id=\"T_03051_row4_col1\" class=\"data row4 col1\" >-0.01</td>\n",
              "      <td id=\"T_03051_row4_col2\" class=\"data row4 col2\" >0.16</td>\n",
              "      <td id=\"T_03051_row4_col3\" class=\"data row4 col3\" >-0.08</td>\n",
              "      <td id=\"T_03051_row4_col4\" class=\"data row4 col4\" >1.00</td>\n",
              "      <td id=\"T_03051_row4_col5\" class=\"data row4 col5\" >-0.09</td>\n",
              "      <td id=\"T_03051_row4_col6\" class=\"data row4 col6\" >-0.03</td>\n",
              "    </tr>\n",
              "    <tr>\n",
              "      <th id=\"T_03051_level0_row5\" class=\"row_heading level0 row5\" >pdays</th>\n",
              "      <td id=\"T_03051_row5_col0\" class=\"data row5 col0\" >-0.02</td>\n",
              "      <td id=\"T_03051_row5_col1\" class=\"data row5 col1\" >0.00</td>\n",
              "      <td id=\"T_03051_row5_col2\" class=\"data row5 col2\" >-0.09</td>\n",
              "      <td id=\"T_03051_row5_col3\" class=\"data row5 col3\" >-0.00</td>\n",
              "      <td id=\"T_03051_row5_col4\" class=\"data row5 col4\" >-0.09</td>\n",
              "      <td id=\"T_03051_row5_col5\" class=\"data row5 col5\" >1.00</td>\n",
              "      <td id=\"T_03051_row5_col6\" class=\"data row5 col6\" >0.45</td>\n",
              "    </tr>\n",
              "    <tr>\n",
              "      <th id=\"T_03051_level0_row6\" class=\"row_heading level0 row6\" >previous</th>\n",
              "      <td id=\"T_03051_row6_col0\" class=\"data row6 col0\" >0.00</td>\n",
              "      <td id=\"T_03051_row6_col1\" class=\"data row6 col1\" >0.02</td>\n",
              "      <td id=\"T_03051_row6_col2\" class=\"data row6 col2\" >-0.05</td>\n",
              "      <td id=\"T_03051_row6_col3\" class=\"data row6 col3\" >0.00</td>\n",
              "      <td id=\"T_03051_row6_col4\" class=\"data row6 col4\" >-0.03</td>\n",
              "      <td id=\"T_03051_row6_col5\" class=\"data row6 col5\" >0.45</td>\n",
              "      <td id=\"T_03051_row6_col6\" class=\"data row6 col6\" >1.00</td>\n",
              "    </tr>\n",
              "  </tbody>\n",
              "</table>\n"
            ]
          },
          "metadata": {},
          "execution_count": 6
        }
      ]
    },
    {
      "cell_type": "markdown",
      "source": [
        "Label Encoding"
      ],
      "metadata": {
        "id": "X1uu_GxY752g"
      }
    },
    {
      "cell_type": "code",
      "source": [
        "# Variables with ordinal data and binary variables (0 or 1 / Yes or No) will be label encoded\n",
        "# job, education, default, housing, loan\n",
        "from sklearn.preprocessing import LabelEncoder\n",
        "\n",
        "data_encoded = data.copy() # As backup if error is ancountered \n",
        "data_encoded[['job', 'education', 'default','housing', 'loan','y']] = data_encoded[['job', 'education', 'default','housing', 'loan','y']].apply(LabelEncoder().fit_transform)"
      ],
      "metadata": {
        "id": "2ZrSTBnR73oN"
      },
      "execution_count": null,
      "outputs": []
    },
    {
      "cell_type": "code",
      "source": [
        "data_encoded.head() # to check whether the variables are label encoded"
      ],
      "metadata": {
        "colab": {
          "base_uri": "https://localhost:8080/",
          "height": 206
        },
        "id": "tUK_uv3jLK4K",
        "outputId": "42d75519-cef3-4c7c-e050-60830fb02dc8"
      },
      "execution_count": null,
      "outputs": [
        {
          "output_type": "execute_result",
          "data": {
            "text/plain": [
              "   age  job  marital  education  default  balance  housing  loan  contact  \\\n",
              "0   58    4  married          2        0     2143        1     0  unknown   \n",
              "1   44    9   single          1        0       29        1     0  unknown   \n",
              "2   33    2  married          1        0        2        1     1  unknown   \n",
              "3   47    1  married          3        0     1506        1     0  unknown   \n",
              "4   33   11   single          3        0        1        0     0  unknown   \n",
              "\n",
              "   day month  duration  campaign  pdays  previous poutcome  y  \n",
              "0    5   may       261         1     -1         0  unknown  0  \n",
              "1    5   may       151         1     -1         0  unknown  0  \n",
              "2    5   may        76         1     -1         0  unknown  0  \n",
              "3    5   may        92         1     -1         0  unknown  0  \n",
              "4    5   may       198         1     -1         0  unknown  0  "
            ],
            "text/html": [
              "\n",
              "  <div id=\"df-50f74193-fb4e-4c72-a5b7-0995843eafb8\">\n",
              "    <div class=\"colab-df-container\">\n",
              "      <div>\n",
              "<style scoped>\n",
              "    .dataframe tbody tr th:only-of-type {\n",
              "        vertical-align: middle;\n",
              "    }\n",
              "\n",
              "    .dataframe tbody tr th {\n",
              "        vertical-align: top;\n",
              "    }\n",
              "\n",
              "    .dataframe thead th {\n",
              "        text-align: right;\n",
              "    }\n",
              "</style>\n",
              "<table border=\"1\" class=\"dataframe\">\n",
              "  <thead>\n",
              "    <tr style=\"text-align: right;\">\n",
              "      <th></th>\n",
              "      <th>age</th>\n",
              "      <th>job</th>\n",
              "      <th>marital</th>\n",
              "      <th>education</th>\n",
              "      <th>default</th>\n",
              "      <th>balance</th>\n",
              "      <th>housing</th>\n",
              "      <th>loan</th>\n",
              "      <th>contact</th>\n",
              "      <th>day</th>\n",
              "      <th>month</th>\n",
              "      <th>duration</th>\n",
              "      <th>campaign</th>\n",
              "      <th>pdays</th>\n",
              "      <th>previous</th>\n",
              "      <th>poutcome</th>\n",
              "      <th>y</th>\n",
              "    </tr>\n",
              "  </thead>\n",
              "  <tbody>\n",
              "    <tr>\n",
              "      <th>0</th>\n",
              "      <td>58</td>\n",
              "      <td>4</td>\n",
              "      <td>married</td>\n",
              "      <td>2</td>\n",
              "      <td>0</td>\n",
              "      <td>2143</td>\n",
              "      <td>1</td>\n",
              "      <td>0</td>\n",
              "      <td>unknown</td>\n",
              "      <td>5</td>\n",
              "      <td>may</td>\n",
              "      <td>261</td>\n",
              "      <td>1</td>\n",
              "      <td>-1</td>\n",
              "      <td>0</td>\n",
              "      <td>unknown</td>\n",
              "      <td>0</td>\n",
              "    </tr>\n",
              "    <tr>\n",
              "      <th>1</th>\n",
              "      <td>44</td>\n",
              "      <td>9</td>\n",
              "      <td>single</td>\n",
              "      <td>1</td>\n",
              "      <td>0</td>\n",
              "      <td>29</td>\n",
              "      <td>1</td>\n",
              "      <td>0</td>\n",
              "      <td>unknown</td>\n",
              "      <td>5</td>\n",
              "      <td>may</td>\n",
              "      <td>151</td>\n",
              "      <td>1</td>\n",
              "      <td>-1</td>\n",
              "      <td>0</td>\n",
              "      <td>unknown</td>\n",
              "      <td>0</td>\n",
              "    </tr>\n",
              "    <tr>\n",
              "      <th>2</th>\n",
              "      <td>33</td>\n",
              "      <td>2</td>\n",
              "      <td>married</td>\n",
              "      <td>1</td>\n",
              "      <td>0</td>\n",
              "      <td>2</td>\n",
              "      <td>1</td>\n",
              "      <td>1</td>\n",
              "      <td>unknown</td>\n",
              "      <td>5</td>\n",
              "      <td>may</td>\n",
              "      <td>76</td>\n",
              "      <td>1</td>\n",
              "      <td>-1</td>\n",
              "      <td>0</td>\n",
              "      <td>unknown</td>\n",
              "      <td>0</td>\n",
              "    </tr>\n",
              "    <tr>\n",
              "      <th>3</th>\n",
              "      <td>47</td>\n",
              "      <td>1</td>\n",
              "      <td>married</td>\n",
              "      <td>3</td>\n",
              "      <td>0</td>\n",
              "      <td>1506</td>\n",
              "      <td>1</td>\n",
              "      <td>0</td>\n",
              "      <td>unknown</td>\n",
              "      <td>5</td>\n",
              "      <td>may</td>\n",
              "      <td>92</td>\n",
              "      <td>1</td>\n",
              "      <td>-1</td>\n",
              "      <td>0</td>\n",
              "      <td>unknown</td>\n",
              "      <td>0</td>\n",
              "    </tr>\n",
              "    <tr>\n",
              "      <th>4</th>\n",
              "      <td>33</td>\n",
              "      <td>11</td>\n",
              "      <td>single</td>\n",
              "      <td>3</td>\n",
              "      <td>0</td>\n",
              "      <td>1</td>\n",
              "      <td>0</td>\n",
              "      <td>0</td>\n",
              "      <td>unknown</td>\n",
              "      <td>5</td>\n",
              "      <td>may</td>\n",
              "      <td>198</td>\n",
              "      <td>1</td>\n",
              "      <td>-1</td>\n",
              "      <td>0</td>\n",
              "      <td>unknown</td>\n",
              "      <td>0</td>\n",
              "    </tr>\n",
              "  </tbody>\n",
              "</table>\n",
              "</div>\n",
              "      <button class=\"colab-df-convert\" onclick=\"convertToInteractive('df-50f74193-fb4e-4c72-a5b7-0995843eafb8')\"\n",
              "              title=\"Convert this dataframe to an interactive table.\"\n",
              "              style=\"display:none;\">\n",
              "        \n",
              "  <svg xmlns=\"http://www.w3.org/2000/svg\" height=\"24px\"viewBox=\"0 0 24 24\"\n",
              "       width=\"24px\">\n",
              "    <path d=\"M0 0h24v24H0V0z\" fill=\"none\"/>\n",
              "    <path d=\"M18.56 5.44l.94 2.06.94-2.06 2.06-.94-2.06-.94-.94-2.06-.94 2.06-2.06.94zm-11 1L8.5 8.5l.94-2.06 2.06-.94-2.06-.94L8.5 2.5l-.94 2.06-2.06.94zm10 10l.94 2.06.94-2.06 2.06-.94-2.06-.94-.94-2.06-.94 2.06-2.06.94z\"/><path d=\"M17.41 7.96l-1.37-1.37c-.4-.4-.92-.59-1.43-.59-.52 0-1.04.2-1.43.59L10.3 9.45l-7.72 7.72c-.78.78-.78 2.05 0 2.83L4 21.41c.39.39.9.59 1.41.59.51 0 1.02-.2 1.41-.59l7.78-7.78 2.81-2.81c.8-.78.8-2.07 0-2.86zM5.41 20L4 18.59l7.72-7.72 1.47 1.35L5.41 20z\"/>\n",
              "  </svg>\n",
              "      </button>\n",
              "      \n",
              "  <style>\n",
              "    .colab-df-container {\n",
              "      display:flex;\n",
              "      flex-wrap:wrap;\n",
              "      gap: 12px;\n",
              "    }\n",
              "\n",
              "    .colab-df-convert {\n",
              "      background-color: #E8F0FE;\n",
              "      border: none;\n",
              "      border-radius: 50%;\n",
              "      cursor: pointer;\n",
              "      display: none;\n",
              "      fill: #1967D2;\n",
              "      height: 32px;\n",
              "      padding: 0 0 0 0;\n",
              "      width: 32px;\n",
              "    }\n",
              "\n",
              "    .colab-df-convert:hover {\n",
              "      background-color: #E2EBFA;\n",
              "      box-shadow: 0px 1px 2px rgba(60, 64, 67, 0.3), 0px 1px 3px 1px rgba(60, 64, 67, 0.15);\n",
              "      fill: #174EA6;\n",
              "    }\n",
              "\n",
              "    [theme=dark] .colab-df-convert {\n",
              "      background-color: #3B4455;\n",
              "      fill: #D2E3FC;\n",
              "    }\n",
              "\n",
              "    [theme=dark] .colab-df-convert:hover {\n",
              "      background-color: #434B5C;\n",
              "      box-shadow: 0px 1px 3px 1px rgba(0, 0, 0, 0.15);\n",
              "      filter: drop-shadow(0px 1px 2px rgba(0, 0, 0, 0.3));\n",
              "      fill: #FFFFFF;\n",
              "    }\n",
              "  </style>\n",
              "\n",
              "      <script>\n",
              "        const buttonEl =\n",
              "          document.querySelector('#df-50f74193-fb4e-4c72-a5b7-0995843eafb8 button.colab-df-convert');\n",
              "        buttonEl.style.display =\n",
              "          google.colab.kernel.accessAllowed ? 'block' : 'none';\n",
              "\n",
              "        async function convertToInteractive(key) {\n",
              "          const element = document.querySelector('#df-50f74193-fb4e-4c72-a5b7-0995843eafb8');\n",
              "          const dataTable =\n",
              "            await google.colab.kernel.invokeFunction('convertToInteractive',\n",
              "                                                     [key], {});\n",
              "          if (!dataTable) return;\n",
              "\n",
              "          const docLinkHtml = 'Like what you see? Visit the ' +\n",
              "            '<a target=\"_blank\" href=https://colab.research.google.com/notebooks/data_table.ipynb>data table notebook</a>'\n",
              "            + ' to learn more about interactive tables.';\n",
              "          element.innerHTML = '';\n",
              "          dataTable['output_type'] = 'display_data';\n",
              "          await google.colab.output.renderOutput(dataTable, element);\n",
              "          const docLink = document.createElement('div');\n",
              "          docLink.innerHTML = docLinkHtml;\n",
              "          element.appendChild(docLink);\n",
              "        }\n",
              "      </script>\n",
              "    </div>\n",
              "  </div>\n",
              "  "
            ]
          },
          "metadata": {},
          "execution_count": 15
        }
      ]
    },
    {
      "cell_type": "markdown",
      "source": [
        "One Hot Encoding"
      ],
      "metadata": {
        "id": "8GsF9YLx78Ba"
      }
    },
    {
      "cell_type": "code",
      "source": [
        "# Import libs\n",
        "from sklearn.preprocessing import OneHotEncoder\n",
        "\n",
        "#OneHotEncoding of job column\n",
        "ohe = OneHotEncoder(sparse = False)\n",
        "\n",
        "# marital\n",
        "data_encoded = pd.concat((data_encoded , pd.DataFrame(ohe.fit_transform(data_encoded[\"marital\"].to_frame()),columns = \"marital_\" + np.sort(data_encoded[\"marital\"].unique()))),axis = 1)\n",
        "data_encoded.drop(columns = [\"marital\"],inplace = True)\n",
        "\n",
        "# contact\n",
        "data_encoded = pd.concat((data_encoded, pd.DataFrame(ohe.fit_transform(data_encoded[\"contact\"].to_frame()),columns = \"contact_\" + np.sort(data_encoded[\"contact\"].unique()))),axis = 1)\n",
        "data_encoded.drop(columns = [\"contact\"],inplace = True)\n",
        "\n",
        "# poutcome \n",
        "data_encoded = pd.concat((data_encoded, pd.DataFrame(ohe.fit_transform(data_encoded[\"poutcome\"].to_frame()),columns = \"poutcome_\" + np.sort(data_encoded[\"poutcome\"].unique()))),axis = 1)\n",
        "data_encoded.drop(columns = [\"poutcome\"],inplace = True)\n",
        "\n",
        "# month \n",
        "data_encoded = pd.concat((data_encoded, pd.DataFrame(ohe.fit_transform(data_encoded[\"month\"].to_frame()),columns = \"month_\" + np.sort(data_encoded[\"month\"].unique()))),axis = 1)\n",
        "data_encoded.drop(columns = [\"month\"],inplace = True)"
      ],
      "metadata": {
        "id": "LOJlRVez79SY"
      },
      "execution_count": null,
      "outputs": []
    },
    {
      "cell_type": "code",
      "source": [
        "data_encoded.head() # to check whether the variables are one hot encoded"
      ],
      "metadata": {
        "colab": {
          "base_uri": "https://localhost:8080/",
          "height": 299
        },
        "id": "Xck1C5zn7_nI",
        "outputId": "645129ce-a404-41e4-fd73-17f920048458"
      },
      "execution_count": null,
      "outputs": [
        {
          "output_type": "execute_result",
          "data": {
            "text/plain": [
              "   age  job  education  default  balance  housing  loan  day  duration  \\\n",
              "0   58    4          2        0     2143        1     0    5       261   \n",
              "1   44    9          1        0       29        1     0    5       151   \n",
              "2   33    2          1        0        2        1     1    5        76   \n",
              "3   47    1          3        0     1506        1     0    5        92   \n",
              "4   33   11          3        0        1        0     0    5       198   \n",
              "\n",
              "   campaign  ...  month_dec  month_feb  month_jan  month_jul  month_jun  \\\n",
              "0         1  ...        0.0        0.0        0.0        0.0        0.0   \n",
              "1         1  ...        0.0        0.0        0.0        0.0        0.0   \n",
              "2         1  ...        0.0        0.0        0.0        0.0        0.0   \n",
              "3         1  ...        0.0        0.0        0.0        0.0        0.0   \n",
              "4         1  ...        0.0        0.0        0.0        0.0        0.0   \n",
              "\n",
              "   month_mar  month_may  month_nov  month_oct  month_sep  \n",
              "0        0.0        1.0        0.0        0.0        0.0  \n",
              "1        0.0        1.0        0.0        0.0        0.0  \n",
              "2        0.0        1.0        0.0        0.0        0.0  \n",
              "3        0.0        1.0        0.0        0.0        0.0  \n",
              "4        0.0        1.0        0.0        0.0        0.0  \n",
              "\n",
              "[5 rows x 35 columns]"
            ],
            "text/html": [
              "\n",
              "  <div id=\"df-4fa3d8fd-df9c-4f23-94fe-91dda2a192bb\">\n",
              "    <div class=\"colab-df-container\">\n",
              "      <div>\n",
              "<style scoped>\n",
              "    .dataframe tbody tr th:only-of-type {\n",
              "        vertical-align: middle;\n",
              "    }\n",
              "\n",
              "    .dataframe tbody tr th {\n",
              "        vertical-align: top;\n",
              "    }\n",
              "\n",
              "    .dataframe thead th {\n",
              "        text-align: right;\n",
              "    }\n",
              "</style>\n",
              "<table border=\"1\" class=\"dataframe\">\n",
              "  <thead>\n",
              "    <tr style=\"text-align: right;\">\n",
              "      <th></th>\n",
              "      <th>age</th>\n",
              "      <th>job</th>\n",
              "      <th>education</th>\n",
              "      <th>default</th>\n",
              "      <th>balance</th>\n",
              "      <th>housing</th>\n",
              "      <th>loan</th>\n",
              "      <th>day</th>\n",
              "      <th>duration</th>\n",
              "      <th>campaign</th>\n",
              "      <th>...</th>\n",
              "      <th>month_dec</th>\n",
              "      <th>month_feb</th>\n",
              "      <th>month_jan</th>\n",
              "      <th>month_jul</th>\n",
              "      <th>month_jun</th>\n",
              "      <th>month_mar</th>\n",
              "      <th>month_may</th>\n",
              "      <th>month_nov</th>\n",
              "      <th>month_oct</th>\n",
              "      <th>month_sep</th>\n",
              "    </tr>\n",
              "  </thead>\n",
              "  <tbody>\n",
              "    <tr>\n",
              "      <th>0</th>\n",
              "      <td>58</td>\n",
              "      <td>4</td>\n",
              "      <td>2</td>\n",
              "      <td>0</td>\n",
              "      <td>2143</td>\n",
              "      <td>1</td>\n",
              "      <td>0</td>\n",
              "      <td>5</td>\n",
              "      <td>261</td>\n",
              "      <td>1</td>\n",
              "      <td>...</td>\n",
              "      <td>0.0</td>\n",
              "      <td>0.0</td>\n",
              "      <td>0.0</td>\n",
              "      <td>0.0</td>\n",
              "      <td>0.0</td>\n",
              "      <td>0.0</td>\n",
              "      <td>1.0</td>\n",
              "      <td>0.0</td>\n",
              "      <td>0.0</td>\n",
              "      <td>0.0</td>\n",
              "    </tr>\n",
              "    <tr>\n",
              "      <th>1</th>\n",
              "      <td>44</td>\n",
              "      <td>9</td>\n",
              "      <td>1</td>\n",
              "      <td>0</td>\n",
              "      <td>29</td>\n",
              "      <td>1</td>\n",
              "      <td>0</td>\n",
              "      <td>5</td>\n",
              "      <td>151</td>\n",
              "      <td>1</td>\n",
              "      <td>...</td>\n",
              "      <td>0.0</td>\n",
              "      <td>0.0</td>\n",
              "      <td>0.0</td>\n",
              "      <td>0.0</td>\n",
              "      <td>0.0</td>\n",
              "      <td>0.0</td>\n",
              "      <td>1.0</td>\n",
              "      <td>0.0</td>\n",
              "      <td>0.0</td>\n",
              "      <td>0.0</td>\n",
              "    </tr>\n",
              "    <tr>\n",
              "      <th>2</th>\n",
              "      <td>33</td>\n",
              "      <td>2</td>\n",
              "      <td>1</td>\n",
              "      <td>0</td>\n",
              "      <td>2</td>\n",
              "      <td>1</td>\n",
              "      <td>1</td>\n",
              "      <td>5</td>\n",
              "      <td>76</td>\n",
              "      <td>1</td>\n",
              "      <td>...</td>\n",
              "      <td>0.0</td>\n",
              "      <td>0.0</td>\n",
              "      <td>0.0</td>\n",
              "      <td>0.0</td>\n",
              "      <td>0.0</td>\n",
              "      <td>0.0</td>\n",
              "      <td>1.0</td>\n",
              "      <td>0.0</td>\n",
              "      <td>0.0</td>\n",
              "      <td>0.0</td>\n",
              "    </tr>\n",
              "    <tr>\n",
              "      <th>3</th>\n",
              "      <td>47</td>\n",
              "      <td>1</td>\n",
              "      <td>3</td>\n",
              "      <td>0</td>\n",
              "      <td>1506</td>\n",
              "      <td>1</td>\n",
              "      <td>0</td>\n",
              "      <td>5</td>\n",
              "      <td>92</td>\n",
              "      <td>1</td>\n",
              "      <td>...</td>\n",
              "      <td>0.0</td>\n",
              "      <td>0.0</td>\n",
              "      <td>0.0</td>\n",
              "      <td>0.0</td>\n",
              "      <td>0.0</td>\n",
              "      <td>0.0</td>\n",
              "      <td>1.0</td>\n",
              "      <td>0.0</td>\n",
              "      <td>0.0</td>\n",
              "      <td>0.0</td>\n",
              "    </tr>\n",
              "    <tr>\n",
              "      <th>4</th>\n",
              "      <td>33</td>\n",
              "      <td>11</td>\n",
              "      <td>3</td>\n",
              "      <td>0</td>\n",
              "      <td>1</td>\n",
              "      <td>0</td>\n",
              "      <td>0</td>\n",
              "      <td>5</td>\n",
              "      <td>198</td>\n",
              "      <td>1</td>\n",
              "      <td>...</td>\n",
              "      <td>0.0</td>\n",
              "      <td>0.0</td>\n",
              "      <td>0.0</td>\n",
              "      <td>0.0</td>\n",
              "      <td>0.0</td>\n",
              "      <td>0.0</td>\n",
              "      <td>1.0</td>\n",
              "      <td>0.0</td>\n",
              "      <td>0.0</td>\n",
              "      <td>0.0</td>\n",
              "    </tr>\n",
              "  </tbody>\n",
              "</table>\n",
              "<p>5 rows × 35 columns</p>\n",
              "</div>\n",
              "      <button class=\"colab-df-convert\" onclick=\"convertToInteractive('df-4fa3d8fd-df9c-4f23-94fe-91dda2a192bb')\"\n",
              "              title=\"Convert this dataframe to an interactive table.\"\n",
              "              style=\"display:none;\">\n",
              "        \n",
              "  <svg xmlns=\"http://www.w3.org/2000/svg\" height=\"24px\"viewBox=\"0 0 24 24\"\n",
              "       width=\"24px\">\n",
              "    <path d=\"M0 0h24v24H0V0z\" fill=\"none\"/>\n",
              "    <path d=\"M18.56 5.44l.94 2.06.94-2.06 2.06-.94-2.06-.94-.94-2.06-.94 2.06-2.06.94zm-11 1L8.5 8.5l.94-2.06 2.06-.94-2.06-.94L8.5 2.5l-.94 2.06-2.06.94zm10 10l.94 2.06.94-2.06 2.06-.94-2.06-.94-.94-2.06-.94 2.06-2.06.94z\"/><path d=\"M17.41 7.96l-1.37-1.37c-.4-.4-.92-.59-1.43-.59-.52 0-1.04.2-1.43.59L10.3 9.45l-7.72 7.72c-.78.78-.78 2.05 0 2.83L4 21.41c.39.39.9.59 1.41.59.51 0 1.02-.2 1.41-.59l7.78-7.78 2.81-2.81c.8-.78.8-2.07 0-2.86zM5.41 20L4 18.59l7.72-7.72 1.47 1.35L5.41 20z\"/>\n",
              "  </svg>\n",
              "      </button>\n",
              "      \n",
              "  <style>\n",
              "    .colab-df-container {\n",
              "      display:flex;\n",
              "      flex-wrap:wrap;\n",
              "      gap: 12px;\n",
              "    }\n",
              "\n",
              "    .colab-df-convert {\n",
              "      background-color: #E8F0FE;\n",
              "      border: none;\n",
              "      border-radius: 50%;\n",
              "      cursor: pointer;\n",
              "      display: none;\n",
              "      fill: #1967D2;\n",
              "      height: 32px;\n",
              "      padding: 0 0 0 0;\n",
              "      width: 32px;\n",
              "    }\n",
              "\n",
              "    .colab-df-convert:hover {\n",
              "      background-color: #E2EBFA;\n",
              "      box-shadow: 0px 1px 2px rgba(60, 64, 67, 0.3), 0px 1px 3px 1px rgba(60, 64, 67, 0.15);\n",
              "      fill: #174EA6;\n",
              "    }\n",
              "\n",
              "    [theme=dark] .colab-df-convert {\n",
              "      background-color: #3B4455;\n",
              "      fill: #D2E3FC;\n",
              "    }\n",
              "\n",
              "    [theme=dark] .colab-df-convert:hover {\n",
              "      background-color: #434B5C;\n",
              "      box-shadow: 0px 1px 3px 1px rgba(0, 0, 0, 0.15);\n",
              "      filter: drop-shadow(0px 1px 2px rgba(0, 0, 0, 0.3));\n",
              "      fill: #FFFFFF;\n",
              "    }\n",
              "  </style>\n",
              "\n",
              "      <script>\n",
              "        const buttonEl =\n",
              "          document.querySelector('#df-4fa3d8fd-df9c-4f23-94fe-91dda2a192bb button.colab-df-convert');\n",
              "        buttonEl.style.display =\n",
              "          google.colab.kernel.accessAllowed ? 'block' : 'none';\n",
              "\n",
              "        async function convertToInteractive(key) {\n",
              "          const element = document.querySelector('#df-4fa3d8fd-df9c-4f23-94fe-91dda2a192bb');\n",
              "          const dataTable =\n",
              "            await google.colab.kernel.invokeFunction('convertToInteractive',\n",
              "                                                     [key], {});\n",
              "          if (!dataTable) return;\n",
              "\n",
              "          const docLinkHtml = 'Like what you see? Visit the ' +\n",
              "            '<a target=\"_blank\" href=https://colab.research.google.com/notebooks/data_table.ipynb>data table notebook</a>'\n",
              "            + ' to learn more about interactive tables.';\n",
              "          element.innerHTML = '';\n",
              "          dataTable['output_type'] = 'display_data';\n",
              "          await google.colab.output.renderOutput(dataTable, element);\n",
              "          const docLink = document.createElement('div');\n",
              "          docLink.innerHTML = docLinkHtml;\n",
              "          element.appendChild(docLink);\n",
              "        }\n",
              "      </script>\n",
              "    </div>\n",
              "  </div>\n",
              "  "
            ]
          },
          "metadata": {},
          "execution_count": 8
        }
      ]
    },
    {
      "cell_type": "markdown",
      "source": [
        "Dataset Partitioning"
      ],
      "metadata": {
        "id": "hXoIWB9x8Gis"
      }
    },
    {
      "cell_type": "code",
      "source": [
        "# Split between X and Y (target variable)\n",
        "Y = data_encoded[\"y\"]\n",
        "X = data_encoded.drop(\"y\", axis = 1)"
      ],
      "metadata": {
        "id": "ta5SjiM98Ef0"
      },
      "execution_count": null,
      "outputs": []
    },
    {
      "cell_type": "code",
      "source": [
        "# Data Partitioning \n",
        "# 70% train set and 30% test set (70:30)\n",
        "\n",
        "from sklearn.model_selection import train_test_split\n",
        "X_train, X_test, y_train, y_test = train_test_split(X, Y, test_size = 0.30, random_state = 42,  stratify=Y)\n",
        "print(X_train.shape, X_test.shape, y_train.shape, y_test.shape)  "
      ],
      "metadata": {
        "colab": {
          "base_uri": "https://localhost:8080/"
        },
        "id": "kQ-M-7-K8I_l",
        "outputId": "dc40acee-51c4-48db-e482-35eb2b747e4c"
      },
      "execution_count": null,
      "outputs": [
        {
          "output_type": "stream",
          "name": "stdout",
          "text": [
            "(31647, 34) (13564, 34) (31647,) (13564,)\n"
          ]
        }
      ]
    },
    {
      "cell_type": "markdown",
      "source": [
        "Class Re-Sampling"
      ],
      "metadata": {
        "id": "vpN869Fe8Npn"
      }
    },
    {
      "cell_type": "code",
      "source": [
        "# Univariate Analysis\n",
        "# Dependent Variable - 'y' (Client Subscription - yes or no)\n",
        "# Check for class imbalance issue\n",
        "import matplotlib.pyplot as plt\n",
        "\n",
        "\n",
        "dependent_var_plot = data['y'].value_counts().rename_axis('target_variable_client_subscription').reset_index(name = 'counts')\n",
        "\n",
        "y_label = dependent_var_plot.target_variable_client_subscription\n",
        "y_value = dependent_var_plot.counts\n",
        "\n",
        "y_figure = plt.figure()\n",
        "ax = y_figure.add_axes([1,1,1,1])\n",
        "\n",
        "ax.pie(y_value, labels = y_label, autopct = '%1.2f%%')\n",
        "plt.title(\"Bank Client Subscription\")\n",
        "plt.show()\n",
        "\n",
        "# From the visualition, there could be class imbalance issue."
      ],
      "metadata": {
        "colab": {
          "base_uri": "https://localhost:8080/",
          "height": 335
        },
        "id": "m26yj8dqxsBf",
        "outputId": "f177da40-1f5f-4c58-8c2c-ac9b6e8d71e5"
      },
      "execution_count": null,
      "outputs": [
        {
          "output_type": "display_data",
          "data": {
            "text/plain": [
              "<Figure size 432x288 with 1 Axes>"
            ],
            "image/png": "[encoded data removed]"
          },
          "metadata": {}
        }
      ]
    },
    {
      "cell_type": "code",
      "source": [
        "from collections import Counter\n",
        "counter = Counter(Y)\n",
        "print(counter)"
      ],
      "metadata": {
        "colab": {
          "base_uri": "https://localhost:8080/"
        },
        "id": "8dyW9LU18KxK",
        "outputId": "8e4bce2d-00ac-4809-d562-256b811954a7"
      },
      "execution_count": null,
      "outputs": [
        {
          "output_type": "stream",
          "name": "stdout",
          "text": [
            "Counter({0: 39922, 1: 5289})\n"
          ]
        }
      ]
    },
    {
      "cell_type": "code",
      "source": [
        "# Synthetic Minority Oversampling Technique (SMOTE)\n",
        "\n",
        "from collections import Counter\n",
        "from sklearn.datasets import make_classification\n",
        "from imblearn.over_sampling import SMOTE\n",
        "from matplotlib import pyplot\n",
        "\n",
        "# transform the dataset\n",
        "oversample = SMOTE()\n",
        "X_train_smote, y_train_smote = oversample.fit_resample(X_train, y_train) # oversampling approach"
      ],
      "metadata": {
        "id": "rTPERrsx8Rx2"
      },
      "execution_count": null,
      "outputs": []
    },
    {
      "cell_type": "code",
      "source": [
        "X_train_smote.shape"
      ],
      "metadata": {
        "colab": {
          "base_uri": "https://localhost:8080/"
        },
        "id": "80VsWpR98Yat",
        "outputId": "9416972b-0139-4365-89ce-9b11680702e3"
      },
      "execution_count": null,
      "outputs": [
        {
          "output_type": "execute_result",
          "data": {
            "text/plain": [
              "(55890, 34)"
            ]
          },
          "metadata": {},
          "execution_count": 12
        }
      ]
    },
    {
      "cell_type": "code",
      "source": [
        "# check the new class distribution (after resampling)\n",
        "counter = Counter(y_train_smote)\n",
        "print(counter)"
      ],
      "metadata": {
        "colab": {
          "base_uri": "https://localhost:8080/"
        },
        "id": "gIG61gC08apk",
        "outputId": "175eae9a-d841-4073-e94e-ca5136fbe179"
      },
      "execution_count": null,
      "outputs": [
        {
          "output_type": "stream",
          "name": "stdout",
          "text": [
            "Counter({0: 27945, 1: 27945})\n"
          ]
        }
      ]
    },
    {
      "cell_type": "markdown",
      "source": [
        "Data Normalisation"
      ],
      "metadata": {
        "id": "IZvXy8uj8emk"
      }
    },
    {
      "cell_type": "code",
      "source": [
        "from sklearn.preprocessing import MinMaxScaler # to solve outliers issues \n",
        "scaler = MinMaxScaler()\n",
        "\n",
        "X_train = scaler.fit_transform(X_train_smote)\n",
        "X_test = scaler.transform(X_test)"
      ],
      "metadata": {
        "id": "uxxRBkZt8gHt"
      },
      "execution_count": null,
      "outputs": []
    },
    {
      "cell_type": "code",
      "source": [
        "print(\"X_train shape\", X_train.shape)\n",
        "print(\"X_test shape\", X_test.shape)"
      ],
      "metadata": {
        "colab": {
          "base_uri": "https://localhost:8080/"
        },
        "id": "O5X6r0298jml",
        "outputId": "a7676df6-9e43-4b3c-9e38-0a4c492576bb"
      },
      "execution_count": null,
      "outputs": [
        {
          "output_type": "stream",
          "name": "stdout",
          "text": [
            "X_train shape (55890, 34)\n",
            "X_test shape (13564, 34)\n"
          ]
        }
      ]
    },
    {
      "cell_type": "markdown",
      "source": [
        "Feature Selection"
      ],
      "metadata": {
        "id": "_yWTYQUR8ujV"
      }
    },
    {
      "cell_type": "code",
      "source": [
        "# import libs\n",
        "from sklearn.ensemble import RandomForestClassifier\n",
        "from boruta import BorutaPy"
      ],
      "metadata": {
        "id": "FjQxFmqh8yfW"
      },
      "execution_count": null,
      "outputs": []
    },
    {
      "cell_type": "code",
      "source": [
        "# boruta package\n",
        "!pip install Boruta"
      ],
      "metadata": {
        "id": "AQfLQ3qt8zwJ"
      },
      "execution_count": null,
      "outputs": []
    },
    {
      "cell_type": "code",
      "source": [
        "# BorutaPy object and RandomForest classifier as estimator\n",
        "# Feature ranking \n",
        "\n",
        "boruta_rfc = RandomForestClassifier(random_state=42, n_estimators=1000, max_depth=5)\n",
        "\n",
        "boruta_feature_select = BorutaPy(boruta_rfc, n_estimators='auto', verbose=2, random_state=42)\n",
        "\n",
        "boruta_feature_select.fit(np.array(X_train), np.array(y_train_smote))  "
      ],
      "metadata": {
        "colab": {
          "base_uri": "https://localhost:8080/"
        },
        "id": "RZuq1xXF81AT",
        "outputId": "c84252e7-6a09-4a56-c511-10802ab46cf0"
      },
      "execution_count": null,
      "outputs": [
        {
          "output_type": "stream",
          "name": "stdout",
          "text": [
            "Iteration: \t1 / 100\n",
            "Confirmed: \t0\n",
            "Tentative: \t34\n",
            "Rejected: \t0\n",
            "Iteration: \t2 / 100\n",
            "Confirmed: \t0\n",
            "Tentative: \t34\n",
            "Rejected: \t0\n",
            "Iteration: \t3 / 100\n",
            "Confirmed: \t0\n",
            "Tentative: \t34\n",
            "Rejected: \t0\n",
            "Iteration: \t4 / 100\n",
            "Confirmed: \t0\n",
            "Tentative: \t34\n",
            "Rejected: \t0\n",
            "Iteration: \t5 / 100\n",
            "Confirmed: \t0\n",
            "Tentative: \t34\n",
            "Rejected: \t0\n",
            "Iteration: \t6 / 100\n",
            "Confirmed: \t0\n",
            "Tentative: \t34\n",
            "Rejected: \t0\n",
            "Iteration: \t7 / 100\n",
            "Confirmed: \t0\n",
            "Tentative: \t34\n",
            "Rejected: \t0\n",
            "Iteration: \t8 / 100\n",
            "Confirmed: \t33\n",
            "Tentative: \t1\n",
            "Rejected: \t0\n",
            "Iteration: \t9 / 100\n",
            "Confirmed: \t33\n",
            "Tentative: \t1\n",
            "Rejected: \t0\n",
            "Iteration: \t10 / 100\n",
            "Confirmed: \t33\n",
            "Tentative: \t1\n",
            "Rejected: \t0\n",
            "Iteration: \t11 / 100\n",
            "Confirmed: \t33\n",
            "Tentative: \t1\n",
            "Rejected: \t0\n",
            "Iteration: \t12 / 100\n",
            "Confirmed: \t33\n",
            "Tentative: \t1\n",
            "Rejected: \t0\n",
            "Iteration: \t13 / 100\n",
            "Confirmed: \t33\n",
            "Tentative: \t1\n",
            "Rejected: \t0\n",
            "Iteration: \t14 / 100\n",
            "Confirmed: \t33\n",
            "Tentative: \t1\n",
            "Rejected: \t0\n",
            "Iteration: \t15 / 100\n",
            "Confirmed: \t33\n",
            "Tentative: \t1\n",
            "Rejected: \t0\n",
            "Iteration: \t16 / 100\n",
            "Confirmed: \t33\n",
            "Tentative: \t1\n",
            "Rejected: \t0\n",
            "Iteration: \t17 / 100\n",
            "Confirmed: \t33\n",
            "Tentative: \t1\n",
            "Rejected: \t0\n",
            "Iteration: \t18 / 100\n",
            "Confirmed: \t33\n",
            "Tentative: \t1\n",
            "Rejected: \t0\n",
            "Iteration: \t19 / 100\n",
            "Confirmed: \t33\n",
            "Tentative: \t1\n",
            "Rejected: \t0\n",
            "Iteration: \t20 / 100\n",
            "Confirmed: \t33\n",
            "Tentative: \t1\n",
            "Rejected: \t0\n",
            "Iteration: \t21 / 100\n",
            "Confirmed: \t33\n",
            "Tentative: \t1\n",
            "Rejected: \t0\n",
            "Iteration: \t22 / 100\n",
            "Confirmed: \t33\n",
            "Tentative: \t1\n",
            "Rejected: \t0\n",
            "Iteration: \t23 / 100\n",
            "Confirmed: \t33\n",
            "Tentative: \t1\n",
            "Rejected: \t0\n",
            "Iteration: \t24 / 100\n",
            "Confirmed: \t33\n",
            "Tentative: \t1\n",
            "Rejected: \t0\n",
            "Iteration: \t25 / 100\n",
            "Confirmed: \t33\n",
            "Tentative: \t1\n",
            "Rejected: \t0\n",
            "Iteration: \t26 / 100\n",
            "Confirmed: \t33\n",
            "Tentative: \t1\n",
            "Rejected: \t0\n",
            "Iteration: \t27 / 100\n",
            "Confirmed: \t33\n",
            "Tentative: \t1\n",
            "Rejected: \t0\n",
            "Iteration: \t28 / 100\n",
            "Confirmed: \t33\n",
            "Tentative: \t1\n",
            "Rejected: \t0\n",
            "Iteration: \t29 / 100\n",
            "Confirmed: \t33\n",
            "Tentative: \t1\n",
            "Rejected: \t0\n",
            "Iteration: \t30 / 100\n",
            "Confirmed: \t33\n",
            "Tentative: \t1\n",
            "Rejected: \t0\n",
            "Iteration: \t31 / 100\n",
            "Confirmed: \t33\n",
            "Tentative: \t1\n",
            "Rejected: \t0\n",
            "Iteration: \t32 / 100\n",
            "Confirmed: \t33\n",
            "Tentative: \t1\n",
            "Rejected: \t0\n",
            "Iteration: \t33 / 100\n",
            "Confirmed: \t33\n",
            "Tentative: \t1\n",
            "Rejected: \t0\n",
            "Iteration: \t34 / 100\n",
            "Confirmed: \t33\n",
            "Tentative: \t1\n",
            "Rejected: \t0\n",
            "Iteration: \t35 / 100\n",
            "Confirmed: \t33\n",
            "Tentative: \t1\n",
            "Rejected: \t0\n",
            "Iteration: \t36 / 100\n",
            "Confirmed: \t33\n",
            "Tentative: \t1\n",
            "Rejected: \t0\n",
            "Iteration: \t37 / 100\n",
            "Confirmed: \t33\n",
            "Tentative: \t1\n",
            "Rejected: \t0\n",
            "Iteration: \t38 / 100\n",
            "Confirmed: \t33\n",
            "Tentative: \t1\n",
            "Rejected: \t0\n",
            "Iteration: \t39 / 100\n",
            "Confirmed: \t33\n",
            "Tentative: \t1\n",
            "Rejected: \t0\n",
            "Iteration: \t40 / 100\n",
            "Confirmed: \t33\n",
            "Tentative: \t1\n",
            "Rejected: \t0\n",
            "Iteration: \t41 / 100\n",
            "Confirmed: \t33\n",
            "Tentative: \t1\n",
            "Rejected: \t0\n",
            "Iteration: \t42 / 100\n",
            "Confirmed: \t33\n",
            "Tentative: \t1\n",
            "Rejected: \t0\n",
            "Iteration: \t43 / 100\n",
            "Confirmed: \t33\n",
            "Tentative: \t1\n",
            "Rejected: \t0\n",
            "Iteration: \t44 / 100\n",
            "Confirmed: \t33\n",
            "Tentative: \t1\n",
            "Rejected: \t0\n",
            "Iteration: \t45 / 100\n",
            "Confirmed: \t33\n",
            "Tentative: \t1\n",
            "Rejected: \t0\n",
            "Iteration: \t46 / 100\n",
            "Confirmed: \t33\n",
            "Tentative: \t1\n",
            "Rejected: \t0\n",
            "Iteration: \t47 / 100\n",
            "Confirmed: \t33\n",
            "Tentative: \t1\n",
            "Rejected: \t0\n",
            "Iteration: \t48 / 100\n",
            "Confirmed: \t33\n",
            "Tentative: \t1\n",
            "Rejected: \t0\n",
            "Iteration: \t49 / 100\n",
            "Confirmed: \t33\n",
            "Tentative: \t1\n",
            "Rejected: \t0\n",
            "Iteration: \t50 / 100\n",
            "Confirmed: \t33\n",
            "Tentative: \t1\n",
            "Rejected: \t0\n",
            "Iteration: \t51 / 100\n",
            "Confirmed: \t33\n",
            "Tentative: \t1\n",
            "Rejected: \t0\n",
            "Iteration: \t52 / 100\n",
            "Confirmed: \t33\n",
            "Tentative: \t1\n",
            "Rejected: \t0\n",
            "Iteration: \t53 / 100\n",
            "Confirmed: \t33\n",
            "Tentative: \t1\n",
            "Rejected: \t0\n",
            "Iteration: \t54 / 100\n",
            "Confirmed: \t33\n",
            "Tentative: \t1\n",
            "Rejected: \t0\n",
            "Iteration: \t55 / 100\n",
            "Confirmed: \t33\n",
            "Tentative: \t1\n",
            "Rejected: \t0\n",
            "Iteration: \t56 / 100\n",
            "Confirmed: \t33\n",
            "Tentative: \t1\n",
            "Rejected: \t0\n",
            "Iteration: \t57 / 100\n",
            "Confirmed: \t33\n",
            "Tentative: \t1\n",
            "Rejected: \t0\n",
            "Iteration: \t58 / 100\n",
            "Confirmed: \t33\n",
            "Tentative: \t1\n",
            "Rejected: \t0\n",
            "Iteration: \t59 / 100\n",
            "Confirmed: \t33\n",
            "Tentative: \t1\n",
            "Rejected: \t0\n",
            "Iteration: \t60 / 100\n",
            "Confirmed: \t33\n",
            "Tentative: \t1\n",
            "Rejected: \t0\n",
            "Iteration: \t61 / 100\n",
            "Confirmed: \t33\n",
            "Tentative: \t1\n",
            "Rejected: \t0\n",
            "Iteration: \t62 / 100\n",
            "Confirmed: \t33\n",
            "Tentative: \t1\n",
            "Rejected: \t0\n",
            "Iteration: \t63 / 100\n",
            "Confirmed: \t33\n",
            "Tentative: \t1\n",
            "Rejected: \t0\n",
            "Iteration: \t64 / 100\n",
            "Confirmed: \t33\n",
            "Tentative: \t1\n",
            "Rejected: \t0\n",
            "Iteration: \t65 / 100\n",
            "Confirmed: \t33\n",
            "Tentative: \t1\n",
            "Rejected: \t0\n",
            "Iteration: \t66 / 100\n",
            "Confirmed: \t33\n",
            "Tentative: \t1\n",
            "Rejected: \t0\n",
            "Iteration: \t67 / 100\n",
            "Confirmed: \t33\n",
            "Tentative: \t1\n",
            "Rejected: \t0\n",
            "Iteration: \t68 / 100\n",
            "Confirmed: \t33\n",
            "Tentative: \t1\n",
            "Rejected: \t0\n",
            "Iteration: \t69 / 100\n",
            "Confirmed: \t33\n",
            "Tentative: \t1\n",
            "Rejected: \t0\n",
            "Iteration: \t70 / 100\n",
            "Confirmed: \t33\n",
            "Tentative: \t1\n",
            "Rejected: \t0\n",
            "Iteration: \t71 / 100\n",
            "Confirmed: \t33\n",
            "Tentative: \t1\n",
            "Rejected: \t0\n",
            "Iteration: \t72 / 100\n",
            "Confirmed: \t33\n",
            "Tentative: \t1\n",
            "Rejected: \t0\n",
            "Iteration: \t73 / 100\n",
            "Confirmed: \t33\n",
            "Tentative: \t1\n",
            "Rejected: \t0\n",
            "Iteration: \t74 / 100\n",
            "Confirmed: \t33\n",
            "Tentative: \t1\n",
            "Rejected: \t0\n",
            "Iteration: \t75 / 100\n",
            "Confirmed: \t33\n",
            "Tentative: \t1\n",
            "Rejected: \t0\n",
            "Iteration: \t76 / 100\n",
            "Confirmed: \t33\n",
            "Tentative: \t1\n",
            "Rejected: \t0\n",
            "Iteration: \t77 / 100\n",
            "Confirmed: \t33\n",
            "Tentative: \t1\n",
            "Rejected: \t0\n",
            "Iteration: \t78 / 100\n",
            "Confirmed: \t33\n",
            "Tentative: \t1\n",
            "Rejected: \t0\n",
            "Iteration: \t79 / 100\n",
            "Confirmed: \t33\n",
            "Tentative: \t1\n",
            "Rejected: \t0\n",
            "Iteration: \t80 / 100\n",
            "Confirmed: \t33\n",
            "Tentative: \t1\n",
            "Rejected: \t0\n",
            "Iteration: \t81 / 100\n",
            "Confirmed: \t33\n",
            "Tentative: \t1\n",
            "Rejected: \t0\n",
            "Iteration: \t82 / 100\n",
            "Confirmed: \t33\n",
            "Tentative: \t1\n",
            "Rejected: \t0\n",
            "Iteration: \t83 / 100\n",
            "Confirmed: \t33\n",
            "Tentative: \t1\n",
            "Rejected: \t0\n",
            "Iteration: \t84 / 100\n",
            "Confirmed: \t33\n",
            "Tentative: \t1\n",
            "Rejected: \t0\n",
            "Iteration: \t85 / 100\n",
            "Confirmed: \t33\n",
            "Tentative: \t1\n",
            "Rejected: \t0\n",
            "Iteration: \t86 / 100\n",
            "Confirmed: \t33\n",
            "Tentative: \t1\n",
            "Rejected: \t0\n",
            "Iteration: \t87 / 100\n",
            "Confirmed: \t33\n",
            "Tentative: \t1\n",
            "Rejected: \t0\n",
            "Iteration: \t88 / 100\n",
            "Confirmed: \t33\n",
            "Tentative: \t1\n",
            "Rejected: \t0\n",
            "Iteration: \t89 / 100\n",
            "Confirmed: \t33\n",
            "Tentative: \t1\n",
            "Rejected: \t0\n",
            "Iteration: \t90 / 100\n",
            "Confirmed: \t33\n",
            "Tentative: \t1\n",
            "Rejected: \t0\n",
            "Iteration: \t91 / 100\n",
            "Confirmed: \t33\n",
            "Tentative: \t1\n",
            "Rejected: \t0\n",
            "Iteration: \t92 / 100\n",
            "Confirmed: \t33\n",
            "Tentative: \t1\n",
            "Rejected: \t0\n",
            "Iteration: \t93 / 100\n",
            "Confirmed: \t33\n",
            "Tentative: \t1\n",
            "Rejected: \t0\n",
            "Iteration: \t94 / 100\n",
            "Confirmed: \t33\n",
            "Tentative: \t1\n",
            "Rejected: \t0\n",
            "Iteration: \t95 / 100\n",
            "Confirmed: \t33\n",
            "Tentative: \t1\n",
            "Rejected: \t0\n",
            "Iteration: \t96 / 100\n",
            "Confirmed: \t33\n",
            "Tentative: \t1\n",
            "Rejected: \t0\n",
            "Iteration: \t97 / 100\n",
            "Confirmed: \t33\n",
            "Tentative: \t1\n",
            "Rejected: \t0\n",
            "Iteration: \t98 / 100\n",
            "Confirmed: \t33\n",
            "Tentative: \t1\n",
            "Rejected: \t0\n",
            "Iteration: \t99 / 100\n",
            "Confirmed: \t33\n",
            "Tentative: \t1\n",
            "Rejected: \t0\n",
            "\n",
            "\n",
            "BorutaPy finished running.\n",
            "\n",
            "Iteration: \t100 / 100\n",
            "Confirmed: \t33\n",
            "Tentative: \t0\n",
            "Rejected: \t0\n"
          ]
        },
        {
          "output_type": "execute_result",
          "data": {
            "text/plain": [
              "BorutaPy(estimator=RandomForestClassifier(max_depth=5, n_estimators=164,\n",
              "                                          random_state=RandomState(MT19937) at 0x7F3CDFFA5160),\n",
              "         n_estimators='auto',\n",
              "         random_state=RandomState(MT19937) at 0x7F3CDFFA5160, verbose=2)"
            ]
          },
          "metadata": {},
          "execution_count": 19
        }
      ]
    },
    {
      "cell_type": "code",
      "source": [
        "features_selected = pd.DataFrame({'Feature':list(X_train_smote.columns),\n",
        "                                       'Ranking':boruta_feature_select.ranking_})\n",
        "features_selected.sort_values(by='Ranking') # to find the ranking of all features"
      ],
      "metadata": {
        "colab": {
          "base_uri": "https://localhost:8080/",
          "height": 1000
        },
        "id": "gR5j-BM2B0lw",
        "outputId": "a90ac6a9-bc2d-4f40-f813-fea7a0710005"
      },
      "execution_count": null,
      "outputs": [
        {
          "output_type": "execute_result",
          "data": {
            "text/plain": [
              "              Feature  Ranking\n",
              "0                 age        1\n",
              "31          month_nov        1\n",
              "30          month_may        1\n",
              "29          month_mar        1\n",
              "28          month_jun        1\n",
              "27          month_jul        1\n",
              "26          month_jan        1\n",
              "25          month_feb        1\n",
              "24          month_dec        1\n",
              "23          month_aug        1\n",
              "22          month_apr        1\n",
              "21   poutcome_unknown        1\n",
              "20   poutcome_success        1\n",
              "19     poutcome_other        1\n",
              "18   poutcome_failure        1\n",
              "17    contact_unknown        1\n",
              "16  contact_telephone        1\n",
              "15   contact_cellular        1\n",
              "1                 job        1\n",
              "2           education        1\n",
              "4             balance        1\n",
              "5             housing        1\n",
              "6                loan        1\n",
              "32          month_oct        1\n",
              "7                 day        1\n",
              "9            campaign        1\n",
              "10              pdays        1\n",
              "11           previous        1\n",
              "12   marital_divorced        1\n",
              "13    marital_married        1\n",
              "14     marital_single        1\n",
              "8            duration        1\n",
              "33          month_sep        1\n",
              "3             default        2"
            ],
            "text/html": [
              "\n",
              "  <div id=\"df-84a2c7db-3d0a-4646-9473-3f29216611c0\">\n",
              "    <div class=\"colab-df-container\">\n",
              "      <div>\n",
              "<style scoped>\n",
              "    .dataframe tbody tr th:only-of-type {\n",
              "        vertical-align: middle;\n",
              "    }\n",
              "\n",
              "    .dataframe tbody tr th {\n",
              "        vertical-align: top;\n",
              "    }\n",
              "\n",
              "    .dataframe thead th {\n",
              "        text-align: right;\n",
              "    }\n",
              "</style>\n",
              "<table border=\"1\" class=\"dataframe\">\n",
              "  <thead>\n",
              "    <tr style=\"text-align: right;\">\n",
              "      <th></th>\n",
              "      <th>Feature</th>\n",
              "      <th>Ranking</th>\n",
              "    </tr>\n",
              "  </thead>\n",
              "  <tbody>\n",
              "    <tr>\n",
              "      <th>0</th>\n",
              "      <td>age</td>\n",
              "      <td>1</td>\n",
              "    </tr>\n",
              "    <tr>\n",
              "      <th>31</th>\n",
              "      <td>month_nov</td>\n",
              "      <td>1</td>\n",
              "    </tr>\n",
              "    <tr>\n",
              "      <th>30</th>\n",
              "      <td>month_may</td>\n",
              "      <td>1</td>\n",
              "    </tr>\n",
              "    <tr>\n",
              "      <th>29</th>\n",
              "      <td>month_mar</td>\n",
              "      <td>1</td>\n",
              "    </tr>\n",
              "    <tr>\n",
              "      <th>28</th>\n",
              "      <td>month_jun</td>\n",
              "      <td>1</td>\n",
              "    </tr>\n",
              "    <tr>\n",
              "      <th>27</th>\n",
              "      <td>month_jul</td>\n",
              "      <td>1</td>\n",
              "    </tr>\n",
              "    <tr>\n",
              "      <th>26</th>\n",
              "      <td>month_jan</td>\n",
              "      <td>1</td>\n",
              "    </tr>\n",
              "    <tr>\n",
              "      <th>25</th>\n",
              "      <td>month_feb</td>\n",
              "      <td>1</td>\n",
              "    </tr>\n",
              "    <tr>\n",
              "      <th>24</th>\n",
              "      <td>month_dec</td>\n",
              "      <td>1</td>\n",
              "    </tr>\n",
              "    <tr>\n",
              "      <th>23</th>\n",
              "      <td>month_aug</td>\n",
              "      <td>1</td>\n",
              "    </tr>\n",
              "    <tr>\n",
              "      <th>22</th>\n",
              "      <td>month_apr</td>\n",
              "      <td>1</td>\n",
              "    </tr>\n",
              "    <tr>\n",
              "      <th>21</th>\n",
              "      <td>poutcome_unknown</td>\n",
              "      <td>1</td>\n",
              "    </tr>\n",
              "    <tr>\n",
              "      <th>20</th>\n",
              "      <td>poutcome_success</td>\n",
              "      <td>1</td>\n",
              "    </tr>\n",
              "    <tr>\n",
              "      <th>19</th>\n",
              "      <td>poutcome_other</td>\n",
              "      <td>1</td>\n",
              "    </tr>\n",
              "    <tr>\n",
              "      <th>18</th>\n",
              "      <td>poutcome_failure</td>\n",
              "      <td>1</td>\n",
              "    </tr>\n",
              "    <tr>\n",
              "      <th>17</th>\n",
              "      <td>contact_unknown</td>\n",
              "      <td>1</td>\n",
              "    </tr>\n",
              "    <tr>\n",
              "      <th>16</th>\n",
              "      <td>contact_telephone</td>\n",
              "      <td>1</td>\n",
              "    </tr>\n",
              "    <tr>\n",
              "      <th>15</th>\n",
              "      <td>contact_cellular</td>\n",
              "      <td>1</td>\n",
              "    </tr>\n",
              "    <tr>\n",
              "      <th>1</th>\n",
              "      <td>job</td>\n",
              "      <td>1</td>\n",
              "    </tr>\n",
              "    <tr>\n",
              "      <th>2</th>\n",
              "      <td>education</td>\n",
              "      <td>1</td>\n",
              "    </tr>\n",
              "    <tr>\n",
              "      <th>4</th>\n",
              "      <td>balance</td>\n",
              "      <td>1</td>\n",
              "    </tr>\n",
              "    <tr>\n",
              "      <th>5</th>\n",
              "      <td>housing</td>\n",
              "      <td>1</td>\n",
              "    </tr>\n",
              "    <tr>\n",
              "      <th>6</th>\n",
              "      <td>loan</td>\n",
              "      <td>1</td>\n",
              "    </tr>\n",
              "    <tr>\n",
              "      <th>32</th>\n",
              "      <td>month_oct</td>\n",
              "      <td>1</td>\n",
              "    </tr>\n",
              "    <tr>\n",
              "      <th>7</th>\n",
              "      <td>day</td>\n",
              "      <td>1</td>\n",
              "    </tr>\n",
              "    <tr>\n",
              "      <th>9</th>\n",
              "      <td>campaign</td>\n",
              "      <td>1</td>\n",
              "    </tr>\n",
              "    <tr>\n",
              "      <th>10</th>\n",
              "      <td>pdays</td>\n",
              "      <td>1</td>\n",
              "    </tr>\n",
              "    <tr>\n",
              "      <th>11</th>\n",
              "      <td>previous</td>\n",
              "      <td>1</td>\n",
              "    </tr>\n",
              "    <tr>\n",
              "      <th>12</th>\n",
              "      <td>marital_divorced</td>\n",
              "      <td>1</td>\n",
              "    </tr>\n",
              "    <tr>\n",
              "      <th>13</th>\n",
              "      <td>marital_married</td>\n",
              "      <td>1</td>\n",
              "    </tr>\n",
              "    <tr>\n",
              "      <th>14</th>\n",
              "      <td>marital_single</td>\n",
              "      <td>1</td>\n",
              "    </tr>\n",
              "    <tr>\n",
              "      <th>8</th>\n",
              "      <td>duration</td>\n",
              "      <td>1</td>\n",
              "    </tr>\n",
              "    <tr>\n",
              "      <th>33</th>\n",
              "      <td>month_sep</td>\n",
              "      <td>1</td>\n",
              "    </tr>\n",
              "    <tr>\n",
              "      <th>3</th>\n",
              "      <td>default</td>\n",
              "      <td>2</td>\n",
              "    </tr>\n",
              "  </tbody>\n",
              "</table>\n",
              "</div>\n",
              "      <button class=\"colab-df-convert\" onclick=\"convertToInteractive('df-84a2c7db-3d0a-4646-9473-3f29216611c0')\"\n",
              "              title=\"Convert this dataframe to an interactive table.\"\n",
              "              style=\"display:none;\">\n",
              "        \n",
              "  <svg xmlns=\"http://www.w3.org/2000/svg\" height=\"24px\"viewBox=\"0 0 24 24\"\n",
              "       width=\"24px\">\n",
              "    <path d=\"M0 0h24v24H0V0z\" fill=\"none\"/>\n",
              "    <path d=\"M18.56 5.44l.94 2.06.94-2.06 2.06-.94-2.06-.94-.94-2.06-.94 2.06-2.06.94zm-11 1L8.5 8.5l.94-2.06 2.06-.94-2.06-.94L8.5 2.5l-.94 2.06-2.06.94zm10 10l.94 2.06.94-2.06 2.06-.94-2.06-.94-.94-2.06-.94 2.06-2.06.94z\"/><path d=\"M17.41 7.96l-1.37-1.37c-.4-.4-.92-.59-1.43-.59-.52 0-1.04.2-1.43.59L10.3 9.45l-7.72 7.72c-.78.78-.78 2.05 0 2.83L4 21.41c.39.39.9.59 1.41.59.51 0 1.02-.2 1.41-.59l7.78-7.78 2.81-2.81c.8-.78.8-2.07 0-2.86zM5.41 20L4 18.59l7.72-7.72 1.47 1.35L5.41 20z\"/>\n",
              "  </svg>\n",
              "      </button>\n",
              "      \n",
              "  <style>\n",
              "    .colab-df-container {\n",
              "      display:flex;\n",
              "      flex-wrap:wrap;\n",
              "      gap: 12px;\n",
              "    }\n",
              "\n",
              "    .colab-df-convert {\n",
              "      background-color: #E8F0FE;\n",
              "      border: none;\n",
              "      border-radius: 50%;\n",
              "      cursor: pointer;\n",
              "      display: none;\n",
              "      fill: #1967D2;\n",
              "      height: 32px;\n",
              "      padding: 0 0 0 0;\n",
              "      width: 32px;\n",
              "    }\n",
              "\n",
              "    .colab-df-convert:hover {\n",
              "      background-color: #E2EBFA;\n",
              "      box-shadow: 0px 1px 2px rgba(60, 64, 67, 0.3), 0px 1px 3px 1px rgba(60, 64, 67, 0.15);\n",
              "      fill: #174EA6;\n",
              "    }\n",
              "\n",
              "    [theme=dark] .colab-df-convert {\n",
              "      background-color: #3B4455;\n",
              "      fill: #D2E3FC;\n",
              "    }\n",
              "\n",
              "    [theme=dark] .colab-df-convert:hover {\n",
              "      background-color: #434B5C;\n",
              "      box-shadow: 0px 1px 3px 1px rgba(0, 0, 0, 0.15);\n",
              "      filter: drop-shadow(0px 1px 2px rgba(0, 0, 0, 0.3));\n",
              "      fill: #FFFFFF;\n",
              "    }\n",
              "  </style>\n",
              "\n",
              "      <script>\n",
              "        const buttonEl =\n",
              "          document.querySelector('#df-84a2c7db-3d0a-4646-9473-3f29216611c0 button.colab-df-convert');\n",
              "        buttonEl.style.display =\n",
              "          google.colab.kernel.accessAllowed ? 'block' : 'none';\n",
              "\n",
              "        async function convertToInteractive(key) {\n",
              "          const element = document.querySelector('#df-84a2c7db-3d0a-4646-9473-3f29216611c0');\n",
              "          const dataTable =\n",
              "            await google.colab.kernel.invokeFunction('convertToInteractive',\n",
              "                                                     [key], {});\n",
              "          if (!dataTable) return;\n",
              "\n",
              "          const docLinkHtml = 'Like what you see? Visit the ' +\n",
              "            '<a target=\"_blank\" href=https://colab.research.google.com/notebooks/data_table.ipynb>data table notebook</a>'\n",
              "            + ' to learn more about interactive tables.';\n",
              "          element.innerHTML = '';\n",
              "          dataTable['output_type'] = 'display_data';\n",
              "          await google.colab.output.renderOutput(dataTable, element);\n",
              "          const docLink = document.createElement('div');\n",
              "          docLink.innerHTML = docLinkHtml;\n",
              "          element.appendChild(docLink);\n",
              "        }\n",
              "      </script>\n",
              "    </div>\n",
              "  </div>\n",
              "  "
            ]
          },
          "metadata": {},
          "execution_count": 20
        }
      ]
    },
    {
      "cell_type": "markdown",
      "source": [
        "Model Building"
      ],
      "metadata": {
        "id": "9TB7henLB44l"
      }
    },
    {
      "cell_type": "code",
      "source": [
        "X_train_smote.shape"
      ],
      "metadata": {
        "colab": {
          "base_uri": "https://localhost:8080/"
        },
        "id": "k76Lpu89DBpb",
        "outputId": "0d2ec57f-8557-4d04-9ce6-e3a2d651419d"
      },
      "execution_count": null,
      "outputs": [
        {
          "output_type": "execute_result",
          "data": {
            "text/plain": [
              "(55890, 34)"
            ]
          },
          "metadata": {},
          "execution_count": 14
        }
      ]
    },
    {
      "cell_type": "code",
      "source": [
        "X_test.shape"
      ],
      "metadata": {
        "colab": {
          "base_uri": "https://localhost:8080/"
        },
        "id": "mtKD8PpmDDPy",
        "outputId": "bcb15c99-b614-4941-b8c7-44df500c870d"
      },
      "execution_count": null,
      "outputs": [
        {
          "output_type": "execute_result",
          "data": {
            "text/plain": [
              "(13564, 34)"
            ]
          },
          "metadata": {},
          "execution_count": 15
        }
      ]
    },
    {
      "cell_type": "markdown",
      "source": [
        "Baseline Model - ANN (Based on Related Works)"
      ],
      "metadata": {
        "id": "gWTI_dxxB6Vx"
      }
    },
    {
      "cell_type": "code",
      "source": [
        "from sklearn.preprocessing import LabelEncoder\n",
        "# for basline model\n",
        "data_encoded = data.copy() # As backup if error is ancountered \n",
        "data_encoded[['job', 'education', 'default','housing', 'loan','marital','contact','poutcome','month','y']] = data_encoded[['job', 'education', 'default','housing', 'loan','marital','contact','poutcome','month','y']].apply(LabelEncoder().fit_transform)"
      ],
      "metadata": {
        "id": "LSof6XFB2GLe"
      },
      "execution_count": null,
      "outputs": []
    },
    {
      "cell_type": "code",
      "source": [
        "data.shape"
      ],
      "metadata": {
        "colab": {
          "base_uri": "https://localhost:8080/"
        },
        "id": "lSuIJs9f23cJ",
        "outputId": "1bffbcb5-4930-4476-b0d1-d8ed25732eb4"
      },
      "execution_count": null,
      "outputs": [
        {
          "output_type": "execute_result",
          "data": {
            "text/plain": [
              "(45211, 17)"
            ]
          },
          "metadata": {},
          "execution_count": 6
        }
      ]
    },
    {
      "cell_type": "code",
      "source": [
        "# Split between X and Y (target variable)\n",
        "Y = data_encoded[\"y\"]\n",
        "X = data_encoded.drop(\"y\", axis = 1)"
      ],
      "metadata": {
        "id": "yKadP5FB26UK"
      },
      "execution_count": null,
      "outputs": []
    },
    {
      "cell_type": "code",
      "source": [
        "# Data Partitioning \n",
        "# 70% train set and 30% test set (70:30)\n",
        "\n",
        "from sklearn.model_selection import train_test_split\n",
        "X_train, X_test, y_train, y_test = train_test_split(X, Y, test_size = 0.30, random_state = 42,  stratify=Y)\n",
        "print(X_train.shape, X_test.shape, y_train.shape, y_test.shape)"
      ],
      "metadata": {
        "colab": {
          "base_uri": "https://localhost:8080/"
        },
        "id": "MtzRgI7b2_Y1",
        "outputId": "b2aad449-34d7-4a5a-9d89-033b81361817"
      },
      "execution_count": null,
      "outputs": [
        {
          "output_type": "stream",
          "name": "stdout",
          "text": [
            "(31647, 16) (13564, 16) (31647,) (13564,)\n"
          ]
        }
      ]
    },
    {
      "cell_type": "code",
      "source": [
        "from sklearn.preprocessing import MinMaxScaler\n",
        "scaler = MinMaxScaler()\n",
        "\n",
        "X_train = scaler.fit_transform(X_train) # no oversampling dataset\n",
        "X_test = scaler.transform(X_test)\n",
        "\n",
        "print(\"X_train shape\", X_train.shape) # no oversampling\n",
        "print(\"X_test shape\", X_test.shape) # no oversaampling"
      ],
      "metadata": {
        "colab": {
          "base_uri": "https://localhost:8080/"
        },
        "id": "nckwHIMS3IvI",
        "outputId": "d6f074b3-5151-4df9-b57d-73fd31ecd1e3"
      },
      "execution_count": null,
      "outputs": [
        {
          "output_type": "stream",
          "name": "stdout",
          "text": [
            "X_train shape (31647, 16)\n",
            "X_test shape (13564, 16)\n"
          ]
        }
      ]
    },
    {
      "cell_type": "markdown",
      "source": [
        "Baseline Model - Artificial Neural Network (ANN)"
      ],
      "metadata": {
        "id": "cPHoq96RNb-W"
      }
    },
    {
      "cell_type": "code",
      "source": [
        "# Artificial Neural Network (ANN)\n",
        "# baseline model\n",
        "# input neurons - 16\n",
        "# level 1 - 100 neurons\n",
        "# level 2 - 100 neurons\n",
        "\n",
        "L1 = 100\n",
        "L2 = 100\n",
        "\n",
        "model = Sequential()\n",
        "\n",
        "# hidden layer\n",
        "model.add(Dense(L1, input_dim=16,activation = 'relu'))\n",
        "model.add(Dense(L2,activation = 'relu'))\n",
        "\n",
        "# output layer\n",
        "model.add(Dense(1,activation = 'relu')) "
      ],
      "metadata": {
        "id": "BVqBVaMW3Y2K"
      },
      "execution_count": null,
      "outputs": []
    },
    {
      "cell_type": "code",
      "source": [
        "model.summary()"
      ],
      "metadata": {
        "colab": {
          "base_uri": "https://localhost:8080/"
        },
        "id": "I-H9rWIP31Pa",
        "outputId": "ca5b61ab-4bd9-4365-9d31-799821474676"
      },
      "execution_count": null,
      "outputs": [
        {
          "output_type": "stream",
          "name": "stdout",
          "text": [
            "Model: \"sequential\"\n",
            "_________________________________________________________________\n",
            " Layer (type)                Output Shape              Param #   \n",
            "=================================================================\n",
            " dense (Dense)               (None, 100)               1700      \n",
            "                                                                 \n",
            " dense_1 (Dense)             (None, 100)               10100     \n",
            "                                                                 \n",
            " dense_2 (Dense)             (None, 1)                 101       \n",
            "                                                                 \n",
            "=================================================================\n",
            "Total params: 11,901\n",
            "Trainable params: 11,901\n",
            "Non-trainable params: 0\n",
            "_________________________________________________________________\n"
          ]
        }
      ]
    },
    {
      "cell_type": "code",
      "source": [
        "model.compile(loss='binary_crossentropy', optimizer='adam', metrics=['acc'])"
      ],
      "metadata": {
        "id": "Phkyi-zw3409"
      },
      "execution_count": null,
      "outputs": []
    },
    {
      "cell_type": "code",
      "source": [
        "history = model.fit(X_train, y_train, epochs=10, batch_size=32, validation_data=(X_test,y_test))"
      ],
      "metadata": {
        "colab": {
          "base_uri": "https://localhost:8080/"
        },
        "id": "3Lpr0BY139Gs",
        "outputId": "9a1cc801-26d1-4822-9745-f1a4ef99b08c"
      },
      "execution_count": null,
      "outputs": [
        {
          "output_type": "stream",
          "name": "stdout",
          "text": [
            "Epoch 1/10\n",
            "989/989 [==============================] - 4s 3ms/step - loss: 0.3820 - acc: 0.8717 - val_loss: 0.3144 - val_acc: 0.8863\n",
            "Epoch 2/10\n",
            "989/989 [==============================] - 3s 3ms/step - loss: 0.3631 - acc: 0.8782 - val_loss: 0.2861 - val_acc: 0.8862\n",
            "Epoch 3/10\n",
            "989/989 [==============================] - 3s 3ms/step - loss: 0.3052 - acc: 0.8896 - val_loss: 0.3037 - val_acc: 0.8935\n",
            "Epoch 4/10\n",
            "989/989 [==============================] - 3s 3ms/step - loss: 0.3283 - acc: 0.8864 - val_loss: 0.5279 - val_acc: 0.8847\n",
            "Epoch 5/10\n",
            "989/989 [==============================] - 3s 3ms/step - loss: 0.3544 - acc: 0.8846 - val_loss: 0.3112 - val_acc: 0.8882\n",
            "Epoch 6/10\n",
            "989/989 [==============================] - 3s 3ms/step - loss: 0.3098 - acc: 0.8794 - val_loss: 0.2883 - val_acc: 0.8916\n",
            "Epoch 7/10\n",
            "989/989 [==============================] - 3s 3ms/step - loss: 0.3598 - acc: 0.8642 - val_loss: 0.3063 - val_acc: 0.8854\n",
            "Epoch 8/10\n",
            "989/989 [==============================] - 3s 3ms/step - loss: 0.2774 - acc: 0.8899 - val_loss: 0.2951 - val_acc: 0.8918\n",
            "Epoch 9/10\n",
            "989/989 [==============================] - 3s 3ms/step - loss: 0.3135 - acc: 0.8783 - val_loss: 0.3058 - val_acc: 0.8851\n",
            "Epoch 10/10\n",
            "989/989 [==============================] - 3s 3ms/step - loss: 0.3343 - acc: 0.8877 - val_loss: 0.2770 - val_acc: 0.8877\n"
          ]
        }
      ]
    },
    {
      "cell_type": "code",
      "source": [
        "# to plot the accuracy and loss for train and test (First model developed)\n",
        "import matplotlib.pyplot as plt\n",
        "\n",
        "acc = history.history['acc'] # accuracy \n",
        "val_acc = history.history['val_acc'] # validation accuracy\n",
        "loss = history.history['loss'] # to check the model error on the data\n",
        "val_loss = history.history['val_loss']\n",
        "\n",
        "epochs = range(1, len(acc)+1)\n",
        "\n",
        "plt.plot(epochs, acc, 'b', label = \"Train Accuracy\")\n",
        "plt.plot(epochs, val_acc, 'r', label = \"Test Accuracy\")\n",
        "plt.legend()\n",
        "plt.figure()\n",
        "plt.plot(epochs, loss, 'b', label = \"Train Loss\")\n",
        "plt.plot(epochs, val_loss, 'r', label = \"Test Loss\")\n",
        "plt.legend()\n",
        "plt.show()"
      ],
      "metadata": {
        "colab": {
          "base_uri": "https://localhost:8080/",
          "height": 517
        },
        "id": "mJhlfURs4voy",
        "outputId": "7072b292-32ae-4a2f-c1f9-393ca2d8fa29"
      },
      "execution_count": null,
      "outputs": [
        {
          "output_type": "display_data",
          "data": {
            "text/plain": [
              "<Figure size 432x288 with 1 Axes>"
            ],
            "image/png": "[encoded data removed]"
          },
          "metadata": {
            "needs_background": "light"
          }
        },
        {
          "output_type": "display_data",
          "data": {
            "text/plain": [
              "<Figure size 432x288 with 1 Axes>"
            ],
            "image/png": "[encoded data removed]"
          },
          "metadata": {
            "needs_background": "light"
          }
        }
      ]
    },
    {
      "cell_type": "code",
      "source": [
        "# carry out predictions\n",
        "basemodel_y_pred = model.predict(X_test)\n",
        "basemodel_y_pred = (basemodel_y_pred > 0.5)"
      ],
      "metadata": {
        "id": "iGCg0XOT5dPE"
      },
      "execution_count": null,
      "outputs": []
    },
    {
      "cell_type": "code",
      "source": [
        "# performance evaluation (confusion matrix)\n",
        "from sklearn.metrics import confusion_matrix\n",
        "base_confusion_matrix = confusion_matrix(y_test, basemodel_y_pred)\n",
        "base_confusion_matrix #print confusion matrix"
      ],
      "metadata": {
        "colab": {
          "base_uri": "https://localhost:8080/"
        },
        "id": "H3XDRjQR7DI5",
        "outputId": "1b974b39-b6a6-4d2e-f83b-d1a3bf650772"
      },
      "execution_count": null,
      "outputs": [
        {
          "output_type": "execute_result",
          "data": {
            "text/plain": [
              "array([[11873,   104],\n",
              "       [ 1419,   168]])"
            ]
          },
          "metadata": {},
          "execution_count": 18
        }
      ]
    },
    {
      "cell_type": "code",
      "source": [
        "# Performance evaluation metrics (report)\n",
        "from sklearn.metrics import classification_report\n",
        "print(classification_report(y_test,basemodel_y_pred))"
      ],
      "metadata": {
        "colab": {
          "base_uri": "https://localhost:8080/"
        },
        "id": "biV5mG6E7IMB",
        "outputId": "cd10fc50-09ea-45d3-d7bb-0b2a103e8c4c"
      },
      "execution_count": null,
      "outputs": [
        {
          "output_type": "stream",
          "name": "stdout",
          "text": [
            "              precision    recall  f1-score   support\n",
            "\n",
            "           0       0.89      0.99      0.94     11977\n",
            "           1       0.62      0.11      0.18      1587\n",
            "\n",
            "    accuracy                           0.89     13564\n",
            "   macro avg       0.76      0.55      0.56     13564\n",
            "weighted avg       0.86      0.89      0.85     13564\n",
            "\n"
          ]
        }
      ]
    },
    {
      "cell_type": "code",
      "source": [
        "# visualise the ANN architecture\n",
        "from keras.utils.vis_utils import plot_model\n",
        "\n",
        "plot_model(model,\n",
        "           to_file=\"basemodel.png\",\n",
        "           show_shapes=True,\n",
        "           show_layer_names=True,\n",
        "          )"
      ],
      "metadata": {
        "colab": {
          "base_uri": "https://localhost:8080/",
          "height": 422
        },
        "id": "tc2Ddt9f4UjS",
        "outputId": "367e5b18-436f-4336-e761-45d6d428b258"
      },
      "execution_count": null,
      "outputs": [
        {
          "output_type": "execute_result",
          "data": {
            "text/plain": [
              "<IPython.core.display.Image object>"
            ],
            "image/png": "[encoded data removed]"
          },
          "metadata": {},
          "execution_count": 11
        }
      ]
    },
    {
      "cell_type": "code",
      "source": [
        "# visualising baseline ANN\n",
        "from keras_sequential_ascii import keras2ascii\n",
        "keras2ascii(model)"
      ],
      "metadata": {
        "colab": {
          "base_uri": "https://localhost:8080/"
        },
        "id": "6IxHWKxB4q1g",
        "outputId": "63344d2a-f335-4ef4-b991-066aed29582a"
      },
      "execution_count": null,
      "outputs": [
        {
          "output_type": "stream",
          "name": "stdout",
          "text": [
            "           OPERATION           DATA DIMENSIONS   WEIGHTS(N)   WEIGHTS(%)\n",
            "\n",
            "               Input   #####          16\n",
            "               Dense   XXXXX -------------------      1700    14.3%\n",
            "                relu   #####         100\n",
            "               Dense   XXXXX -------------------     10100    84.9%\n",
            "                relu   #####         100\n",
            "               Dense   XXXXX -------------------       101     0.8%\n",
            "                relu   #####           1\n"
          ]
        }
      ]
    },
    {
      "cell_type": "markdown",
      "source": [
        "MODEL 1 - ANN (KERAS)"
      ],
      "metadata": {
        "id": "A5JMBV4PCvO2"
      }
    },
    {
      "cell_type": "code",
      "source": [
        "# Import libraries\n",
        "from keras.models import Sequential\n",
        "from keras.layers import Dense, Embedding, SimpleRNN, LSTM, GRU\n",
        "from keras.preprocessing import sequence\n",
        "import numpy as np\n",
        "# Artificial Neural Network (ANN) \n",
        "# Based on the assumption of taking the average neurons between input neurons and output neurons:\n",
        "# Input feaures - 34 features involved\n",
        "\n",
        "# 34 input neurons \n",
        "# 1 output neuron \n",
        "# Total hidden neuron ->\n",
        "# 34 input neurons + 1 output neuron = 35 neurons\n",
        "# 35 neurons / 2 = 17.5  Hidden Neurons\n",
        "# 17 hidden neurons will be invovled \n",
        "\n",
        "\n",
        "L1 = 17 \n",
        "L2 = 17\n",
        "L3 = 17\n",
        "\n",
        "model = Sequential()\n",
        "\n",
        "# hidden layer\n",
        "model.add(Dense(L1, input_dim=34,activation = 'relu'))\n",
        "model.add(Dense(L2,activation = 'relu'))\n",
        "model.add(Dense(L3,activation = 'relu'))\n",
        "\n",
        "# output layer\n",
        "model.add(Dense(1,activation = 'relu')) "
      ],
      "metadata": {
        "id": "u5RVqC90CzAN"
      },
      "execution_count": null,
      "outputs": []
    },
    {
      "cell_type": "code",
      "source": [
        "model.summary()"
      ],
      "metadata": {
        "colab": {
          "base_uri": "https://localhost:8080/"
        },
        "id": "o2ZfcA-XDKVN",
        "outputId": "cbe113b5-5ac7-4cb1-81a2-8bd26c3512f2"
      },
      "execution_count": null,
      "outputs": [
        {
          "output_type": "stream",
          "name": "stdout",
          "text": [
            "Model: \"sequential_1\"\n",
            "_________________________________________________________________\n",
            " Layer (type)                Output Shape              Param #   \n",
            "=================================================================\n",
            " dense_4 (Dense)             (None, 17)                595       \n",
            "                                                                 \n",
            " dense_5 (Dense)             (None, 17)                306       \n",
            "                                                                 \n",
            " dense_6 (Dense)             (None, 17)                306       \n",
            "                                                                 \n",
            " dense_7 (Dense)             (None, 1)                 18        \n",
            "                                                                 \n",
            "=================================================================\n",
            "Total params: 1,225\n",
            "Trainable params: 1,225\n",
            "Non-trainable params: 0\n",
            "_________________________________________________________________\n"
          ]
        }
      ]
    },
    {
      "cell_type": "code",
      "source": [
        "model.compile(loss='binary_crossentropy', optimizer='adam', metrics=['acc'])"
      ],
      "metadata": {
        "id": "eqG8QcOuDOqi"
      },
      "execution_count": null,
      "outputs": []
    },
    {
      "cell_type": "code",
      "source": [
        "history = model.fit(X_train, y_train_smote, epochs=20, batch_size=32, validation_data=(X_test,y_test))"
      ],
      "metadata": {
        "colab": {
          "base_uri": "https://localhost:8080/"
        },
        "id": "MPbgdBv7DQUZ",
        "outputId": "06da1b73-f342-445f-9422-faaf3a84e8f1"
      },
      "execution_count": null,
      "outputs": [
        {
          "output_type": "stream",
          "name": "stdout",
          "text": [
            "Epoch 1/20\n",
            "1747/1747 [==============================] - 11s 5ms/step - loss: 0.4841 - acc: 0.8031 - val_loss: 0.4201 - val_acc: 0.8683\n",
            "Epoch 2/20\n",
            "1747/1747 [==============================] - 8s 4ms/step - loss: 0.3637 - acc: 0.8840 - val_loss: 0.6142 - val_acc: 0.7018\n",
            "Epoch 3/20\n",
            "1747/1747 [==============================] - 6s 3ms/step - loss: 0.3702 - acc: 0.8726 - val_loss: 0.5040 - val_acc: 0.8964\n",
            "Epoch 4/20\n",
            "1747/1747 [==============================] - 6s 4ms/step - loss: 0.3402 - acc: 0.8945 - val_loss: 0.4663 - val_acc: 0.8564\n",
            "Epoch 5/20\n",
            "1747/1747 [==============================] - 4s 2ms/step - loss: 0.3303 - acc: 0.8985 - val_loss: 0.3907 - val_acc: 0.8820\n",
            "Epoch 6/20\n",
            "1747/1747 [==============================] - 4s 2ms/step - loss: 0.3479 - acc: 0.8843 - val_loss: 0.4199 - val_acc: 0.8591\n",
            "Epoch 7/20\n",
            "1747/1747 [==============================] - 4s 2ms/step - loss: 0.3050 - acc: 0.8989 - val_loss: 0.4471 - val_acc: 0.8071\n",
            "Epoch 8/20\n",
            "1747/1747 [==============================] - 4s 2ms/step - loss: 0.2956 - acc: 0.8974 - val_loss: 0.3808 - val_acc: 0.8796\n",
            "Epoch 9/20\n",
            "1747/1747 [==============================] - 4s 2ms/step - loss: 0.3527 - acc: 0.8936 - val_loss: 0.3941 - val_acc: 0.8841\n",
            "Epoch 10/20\n",
            "1747/1747 [==============================] - 4s 2ms/step - loss: 0.2718 - acc: 0.9094 - val_loss: 0.3776 - val_acc: 0.8817\n",
            "Epoch 11/20\n",
            "1747/1747 [==============================] - 4s 2ms/step - loss: 0.2606 - acc: 0.9163 - val_loss: 0.3936 - val_acc: 0.8869\n",
            "Epoch 12/20\n",
            "1747/1747 [==============================] - 4s 2ms/step - loss: 0.2957 - acc: 0.9033 - val_loss: 0.3431 - val_acc: 0.8879\n",
            "Epoch 13/20\n",
            "1747/1747 [==============================] - 4s 2ms/step - loss: 0.2656 - acc: 0.9130 - val_loss: 0.5689 - val_acc: 0.8904\n",
            "Epoch 14/20\n",
            "1747/1747 [==============================] - 4s 2ms/step - loss: 0.3068 - acc: 0.8980 - val_loss: 0.3600 - val_acc: 0.8805\n",
            "Epoch 15/20\n",
            "1747/1747 [==============================] - 4s 2ms/step - loss: 0.2402 - acc: 0.9195 - val_loss: 0.3325 - val_acc: 0.8907\n",
            "Epoch 16/20\n",
            "1747/1747 [==============================] - 4s 2ms/step - loss: 0.2496 - acc: 0.9162 - val_loss: 0.3230 - val_acc: 0.8864\n",
            "Epoch 17/20\n",
            "1747/1747 [==============================] - 4s 2ms/step - loss: 0.2529 - acc: 0.9190 - val_loss: 0.3380 - val_acc: 0.8899\n",
            "Epoch 18/20\n",
            "1747/1747 [==============================] - 4s 2ms/step - loss: 0.2543 - acc: 0.9161 - val_loss: 0.4308 - val_acc: 0.8553\n",
            "Epoch 19/20\n",
            "1747/1747 [==============================] - 4s 2ms/step - loss: 0.2826 - acc: 0.8937 - val_loss: 0.3657 - val_acc: 0.8781\n",
            "Epoch 20/20\n",
            "1747/1747 [==============================] - 4s 2ms/step - loss: 0.2426 - acc: 0.9150 - val_loss: 0.3530 - val_acc: 0.8860\n"
          ]
        }
      ]
    },
    {
      "cell_type": "code",
      "source": [
        "# to plot the accuracy and loss for train and test (First model developed)\n",
        "import matplotlib.pyplot as plt\n",
        "\n",
        "acc = history.history['acc']\n",
        "val_acc = history.history['val_acc']\n",
        "loss = history.history['loss']\n",
        "val_loss = history.history['val_loss']\n",
        "\n",
        "epochs = range(1, len(acc)+1)\n",
        "\n",
        "plt.plot(epochs, acc, 'b', label = \"Train Accuracy\")\n",
        "plt.plot(epochs, val_acc, 'r', label = \"Test Accuracy\")\n",
        "plt.legend()\n",
        "plt.figure()\n",
        "plt.plot(epochs, loss, 'b', label = \"Train Loss\")\n",
        "plt.plot(epochs, val_loss, 'r', label = \"Test Loss\")\n",
        "plt.legend()\n",
        "plt.show()"
      ],
      "metadata": {
        "colab": {
          "base_uri": "https://localhost:8080/",
          "height": 513
        },
        "id": "9kAl71XxDla3",
        "outputId": "8cdaa65e-dc05-437f-ec93-052a8b790e0c"
      },
      "execution_count": null,
      "outputs": [
        {
          "output_type": "display_data",
          "data": {
            "text/plain": [
              "<Figure size 432x288 with 1 Axes>"
            ],
            "image/png": "[encoded data removed]"
          },
          "metadata": {
            "needs_background": "light"
          }
        },
        {
          "output_type": "display_data",
          "data": {
            "text/plain": [
              "<Figure size 432x288 with 1 Axes>"
            ],
            "image/png": "[encoded data removed]"
          },
          "metadata": {
            "needs_background": "light"
          }
        }
      ]
    },
    {
      "cell_type": "code",
      "source": [
        "# carry out predictions\n",
        "model1_y_pred = model.predict(X_test)\n",
        "model1_y_pred = (model1_y_pred > 0.5)"
      ],
      "metadata": {
        "id": "04ikk2fGD0fa"
      },
      "execution_count": null,
      "outputs": []
    },
    {
      "cell_type": "code",
      "source": [
        "# performance evaluation (confusion matrix)\n",
        "from sklearn.metrics import confusion_matrix\n",
        "m1_confusion_matrix = confusion_matrix(y_test, model1_y_pred)\n",
        "m1_confusion_matrix #print confusion matrix"
      ],
      "metadata": {
        "colab": {
          "base_uri": "https://localhost:8080/"
        },
        "id": "NvqY2nsBEAAR",
        "outputId": "f7418658-8c8f-4338-d0fa-e751ae14026e"
      },
      "execution_count": null,
      "outputs": [
        {
          "output_type": "execute_result",
          "data": {
            "text/plain": [
              "array([[11148,   829],\n",
              "       [  717,   870]])"
            ]
          },
          "metadata": {},
          "execution_count": 28
        }
      ]
    },
    {
      "cell_type": "code",
      "source": [
        "# Performance evaluation metrics (report)\n",
        "from sklearn.metrics import classification_report\n",
        "print(classification_report(y_test,model1_y_pred))"
      ],
      "metadata": {
        "colab": {
          "base_uri": "https://localhost:8080/"
        },
        "id": "A5Ls_K6OEJ_8",
        "outputId": "dc5d18cc-ba6e-4a28-beea-4252221f63f6"
      },
      "execution_count": null,
      "outputs": [
        {
          "output_type": "stream",
          "name": "stdout",
          "text": [
            "              precision    recall  f1-score   support\n",
            "\n",
            "           0       0.94      0.93      0.94     11977\n",
            "           1       0.51      0.55      0.53      1587\n",
            "\n",
            "    accuracy                           0.89     13564\n",
            "   macro avg       0.73      0.74      0.73     13564\n",
            "weighted avg       0.89      0.89      0.89     13564\n",
            "\n"
          ]
        }
      ]
    },
    {
      "cell_type": "code",
      "source": [
        "# visualise the ANN architecture\n",
        "from keras.utils.vis_utils import plot_model\n",
        "\n",
        "plot_model(model,\n",
        "           to_file=\"model1.png\",\n",
        "           show_shapes=True,\n",
        "           show_layer_names=True,\n",
        "          )"
      ],
      "metadata": {
        "colab": {
          "base_uri": "https://localhost:8080/",
          "height": 533
        },
        "id": "M8wHQNgLEVEV",
        "outputId": "9a73b4af-d71e-43de-e5ed-58d54117019b"
      },
      "execution_count": null,
      "outputs": [
        {
          "output_type": "execute_result",
          "data": {
            "text/plain": [
              "<IPython.core.display.Image object>"
            ],
            "image/png": "[encoded data removed]"
          },
          "metadata": {},
          "execution_count": 30
        }
      ]
    },
    {
      "cell_type": "code",
      "source": [
        "!pip install keras_sequential_ascii"
      ],
      "metadata": {
        "colab": {
          "base_uri": "https://localhost:8080/"
        },
        "id": "ntj5HXVkEaxT",
        "outputId": "7c41d560-91ea-4dbe-8690-5bcecd401124"
      },
      "execution_count": null,
      "outputs": [
        {
          "output_type": "stream",
          "name": "stdout",
          "text": [
            "Looking in indexes: https://pypi.org/simple, https://us-python.pkg.dev/colab-wheels/public/simple/\n",
            "Requirement already satisfied: keras_sequential_ascii in /usr/local/lib/python3.7/dist-packages (0.1.1)\n",
            "Requirement already satisfied: keras in /usr/local/lib/python3.7/dist-packages (from keras_sequential_ascii) (2.8.0)\n"
          ]
        }
      ]
    },
    {
      "cell_type": "code",
      "source": [
        "# visualising ANN\n",
        "from keras_sequential_ascii import keras2ascii\n",
        "keras2ascii(model)"
      ],
      "metadata": {
        "colab": {
          "base_uri": "https://localhost:8080/"
        },
        "id": "Sakkx0qIFBr0",
        "outputId": "a97c2b2a-8505-4ce7-dcc7-e8e9905b3807"
      },
      "execution_count": null,
      "outputs": [
        {
          "output_type": "stream",
          "name": "stdout",
          "text": [
            "           OPERATION           DATA DIMENSIONS   WEIGHTS(N)   WEIGHTS(%)\n",
            "\n",
            "               Input   #####          34\n",
            "               Dense   XXXXX -------------------       595    48.6%\n",
            "                relu   #####          17\n",
            "               Dense   XXXXX -------------------       306    25.0%\n",
            "                relu   #####          17\n",
            "               Dense   XXXXX -------------------       306    25.0%\n",
            "                relu   #####          17\n",
            "               Dense   XXXXX -------------------        18     1.5%\n",
            "                relu   #####           1\n"
          ]
        }
      ]
    },
    {
      "cell_type": "markdown",
      "source": [
        "Model 2: ANN (Hyperparameter Tuning  - Second model tuning)"
      ],
      "metadata": {
        "id": "jwwY7E5oFIrm"
      }
    },
    {
      "cell_type": "code",
      "source": [
        "# Artificial Neural Network (ANN)\n",
        "# Level 1 - 34 neurons\n",
        "# Level 2 - 17 neurons\n",
        "# Output - 1 neuron (relu)\n",
        "## Hyperparameters -> (Dropout - 0.2)\n",
        "\n",
        "from keras.layers import Dense, Dropout\n",
        "\n",
        "L1 = 17\n",
        "L2 = 17\n",
        "L3 = 17\n",
        "\n",
        "model = Sequential()\n",
        "\n",
        "# hidden layer\n",
        "model.add(Dense(L1, input_dim=34,activation = 'relu'))\n",
        "model.add(Dense(L2,activation = 'relu'))\n",
        "model.add(Dense(L3,activation = 'relu'))\n",
        "\n",
        "#Dropout\n",
        "model.add(Dropout(rate=0.2))\n",
        "\n",
        "# output layer\n",
        "model.add(Dense(1,activation = 'relu')) "
      ],
      "metadata": {
        "id": "5VD92q5jFNN2"
      },
      "execution_count": null,
      "outputs": []
    },
    {
      "cell_type": "code",
      "source": [
        "model.summary()"
      ],
      "metadata": {
        "colab": {
          "base_uri": "https://localhost:8080/"
        },
        "id": "laVxoni6Fa4m",
        "outputId": "4b9b5da8-7003-4fbe-de63-ff52a3e3ff08"
      },
      "execution_count": null,
      "outputs": [
        {
          "output_type": "stream",
          "name": "stdout",
          "text": [
            "Model: \"sequential_3\"\n",
            "_________________________________________________________________\n",
            " Layer (type)                Output Shape              Param #   \n",
            "=================================================================\n",
            " dense_12 (Dense)            (None, 17)                595       \n",
            "                                                                 \n",
            " dense_13 (Dense)            (None, 17)                306       \n",
            "                                                                 \n",
            " dense_14 (Dense)            (None, 17)                306       \n",
            "                                                                 \n",
            " dropout_1 (Dropout)         (None, 17)                0         \n",
            "                                                                 \n",
            " dense_15 (Dense)            (None, 1)                 18        \n",
            "                                                                 \n",
            "=================================================================\n",
            "Total params: 1,225\n",
            "Trainable params: 1,225\n",
            "Non-trainable params: 0\n",
            "_________________________________________________________________\n"
          ]
        }
      ]
    },
    {
      "cell_type": "code",
      "source": [
        "model.compile(loss='binary_crossentropy', optimizer='adam', metrics=['acc'])"
      ],
      "metadata": {
        "id": "Rp4ZyKw2FdXa"
      },
      "execution_count": null,
      "outputs": []
    },
    {
      "cell_type": "code",
      "source": [
        "history = model.fit(X_train, y_train_smote, epochs=20, batch_size=32, validation_data=(X_test,y_test))"
      ],
      "metadata": {
        "colab": {
          "base_uri": "https://localhost:8080/"
        },
        "id": "6IjpDfDYFeeO",
        "outputId": "4364dbdd-fd4a-4176-ade8-2c30894dcea6"
      },
      "execution_count": null,
      "outputs": [
        {
          "output_type": "stream",
          "name": "stdout",
          "text": [
            "Epoch 1/20\n",
            "1747/1747 [==============================] - 9s 5ms/step - loss: 0.3496 - acc: 0.8924 - val_loss: 0.4738 - val_acc: 0.8828\n",
            "Epoch 2/20\n",
            "1747/1747 [==============================] - 7s 4ms/step - loss: 0.3361 - acc: 0.8983 - val_loss: 0.3826 - val_acc: 0.8840\n",
            "Epoch 3/20\n",
            "1747/1747 [==============================] - 4s 2ms/step - loss: 0.3422 - acc: 0.8902 - val_loss: 0.5461 - val_acc: 0.8904\n",
            "Epoch 4/20\n",
            "1747/1747 [==============================] - 4s 2ms/step - loss: 0.3249 - acc: 0.8947 - val_loss: 0.3547 - val_acc: 0.8971\n",
            "Epoch 5/20\n",
            "1747/1747 [==============================] - 4s 2ms/step - loss: 0.3465 - acc: 0.8880 - val_loss: 0.4511 - val_acc: 0.8793\n",
            "Epoch 6/20\n",
            "1747/1747 [==============================] - 4s 2ms/step - loss: 0.3096 - acc: 0.9033 - val_loss: 0.3365 - val_acc: 0.8926\n",
            "Epoch 7/20\n",
            "1747/1747 [==============================] - 4s 2ms/step - loss: 0.3116 - acc: 0.9052 - val_loss: 0.4766 - val_acc: 0.8214\n",
            "Epoch 8/20\n",
            "1747/1747 [==============================] - 4s 2ms/step - loss: 0.3116 - acc: 0.8972 - val_loss: 0.3643 - val_acc: 0.8890\n",
            "Epoch 9/20\n",
            "1747/1747 [==============================] - 4s 2ms/step - loss: 0.3094 - acc: 0.8937 - val_loss: 0.3993 - val_acc: 0.8926\n",
            "Epoch 10/20\n",
            "1747/1747 [==============================] - 4s 2ms/step - loss: 0.2798 - acc: 0.9123 - val_loss: 0.3669 - val_acc: 0.8943\n",
            "Epoch 11/20\n",
            "1747/1747 [==============================] - 4s 2ms/step - loss: 0.2879 - acc: 0.9087 - val_loss: 0.3247 - val_acc: 0.8840\n",
            "Epoch 12/20\n",
            "1747/1747 [==============================] - 4s 2ms/step - loss: 0.2805 - acc: 0.9093 - val_loss: 0.3348 - val_acc: 0.8918\n",
            "Epoch 13/20\n",
            "1747/1747 [==============================] - 4s 2ms/step - loss: 0.3132 - acc: 0.8951 - val_loss: 0.3701 - val_acc: 0.8695\n",
            "Epoch 14/20\n",
            "1747/1747 [==============================] - 5s 3ms/step - loss: 0.2669 - acc: 0.9106 - val_loss: 0.3640 - val_acc: 0.8915\n",
            "Epoch 15/20\n",
            "1747/1747 [==============================] - 5s 3ms/step - loss: 0.2896 - acc: 0.9045 - val_loss: 0.3928 - val_acc: 0.8955\n",
            "Epoch 16/20\n",
            "1747/1747 [==============================] - 4s 2ms/step - loss: 0.2796 - acc: 0.9071 - val_loss: 0.3480 - val_acc: 0.8935\n",
            "Epoch 17/20\n",
            "1747/1747 [==============================] - 4s 2ms/step - loss: 0.3186 - acc: 0.8883 - val_loss: 0.3409 - val_acc: 0.8917\n",
            "Epoch 18/20\n",
            "1747/1747 [==============================] - 4s 2ms/step - loss: 0.3012 - acc: 0.9009 - val_loss: 0.3906 - val_acc: 0.8884\n",
            "Epoch 19/20\n",
            "1747/1747 [==============================] - 4s 2ms/step - loss: 0.2678 - acc: 0.9174 - val_loss: 0.4189 - val_acc: 0.8904\n",
            "Epoch 20/20\n",
            "1747/1747 [==============================] - 4s 2ms/step - loss: 0.2971 - acc: 0.8970 - val_loss: 0.4017 - val_acc: 0.8971\n"
          ]
        }
      ]
    },
    {
      "cell_type": "code",
      "source": [
        "# to plot the accuracy and loss for train and test (Second model developed)\n",
        "import matplotlib.pyplot as plt\n",
        "\n",
        "acc = history.history['acc']\n",
        "val_acc = history.history['val_acc']\n",
        "loss = history.history['loss']\n",
        "val_loss = history.history['val_loss']\n",
        "\n",
        "epochs = range(1, len(acc)+1)\n",
        "\n",
        "plt.plot(epochs, acc, 'b', label = \"Train Accuracy\")\n",
        "plt.plot(epochs, val_acc, 'r', label = \"Test Accuracy\")\n",
        "plt.legend()\n",
        "plt.figure()\n",
        "plt.plot(epochs, loss, 'b', label = \"Train Loss\")\n",
        "plt.plot(epochs, val_loss, 'r', label = \"Test Loss\")\n",
        "plt.legend()\n",
        "plt.show()"
      ],
      "metadata": {
        "colab": {
          "base_uri": "https://localhost:8080/",
          "height": 513
        },
        "id": "bXxJs5kuF2sX",
        "outputId": "554b4a8b-96a1-41d7-9fdf-8ff83b1f45a5"
      },
      "execution_count": null,
      "outputs": [
        {
          "output_type": "display_data",
          "data": {
            "text/plain": [
              "<Figure size 432x288 with 1 Axes>"
            ],
            "image/png": "[encoded data removed]"
          },
          "metadata": {
            "needs_background": "light"
          }
        },
        {
          "output_type": "display_data",
          "data": {
            "text/plain": [
              "<Figure size 432x288 with 1 Axes>"
            ],
            "image/png": "[encoded data removed]"
          },
          "metadata": {
            "needs_background": "light"
          }
        }
      ]
    },
    {
      "cell_type": "code",
      "source": [
        "# carry out predictions\n",
        "model2_y_pred = model.predict(X_test)\n",
        "model2_y_pred = (model2_y_pred > 0.5)"
      ],
      "metadata": {
        "id": "_EC6Xnw6F6vx"
      },
      "execution_count": null,
      "outputs": []
    },
    {
      "cell_type": "code",
      "source": [
        "# performance evaluation (confusion matrix)\n",
        "from sklearn.metrics import confusion_matrix\n",
        "m2_confusion_matrix = confusion_matrix(y_test, model2_y_pred)\n",
        "m2_confusion_matrix #print confusion matrix"
      ],
      "metadata": {
        "colab": {
          "base_uri": "https://localhost:8080/"
        },
        "id": "1AOgzHOiGCnv",
        "outputId": "035eeb73-e6e5-4f1e-edde-945443f74d09"
      },
      "execution_count": null,
      "outputs": [
        {
          "output_type": "execute_result",
          "data": {
            "text/plain": [
              "array([[11342,   635],\n",
              "       [  761,   826]])"
            ]
          },
          "metadata": {},
          "execution_count": 49
        }
      ]
    },
    {
      "cell_type": "code",
      "source": [
        "# Performance evaluation metrics (report)\n",
        "from sklearn.metrics import classification_report\n",
        "print(classification_report(y_test,model2_y_pred))"
      ],
      "metadata": {
        "colab": {
          "base_uri": "https://localhost:8080/"
        },
        "id": "UAu60FODGF9u",
        "outputId": "a51f192b-73c5-4150-957b-a1a7d631d8d4"
      },
      "execution_count": null,
      "outputs": [
        {
          "output_type": "stream",
          "name": "stdout",
          "text": [
            "              precision    recall  f1-score   support\n",
            "\n",
            "           0       0.94      0.95      0.94     11977\n",
            "           1       0.57      0.52      0.54      1587\n",
            "\n",
            "    accuracy                           0.90     13564\n",
            "   macro avg       0.75      0.73      0.74     13564\n",
            "weighted avg       0.89      0.90      0.90     13564\n",
            "\n"
          ]
        }
      ]
    },
    {
      "cell_type": "code",
      "source": [
        "# visualise the ANN architecture\n",
        "from keras.utils.vis_utils import plot_model\n",
        "\n",
        "plot_model(model,to_file=\"model2.png\", show_shapes=True, show_layer_names=True,)"
      ],
      "metadata": {
        "colab": {
          "base_uri": "https://localhost:8080/",
          "height": 644
        },
        "id": "W_ELnzh5GKnb",
        "outputId": "7271761f-34c2-40ac-d189-1ac4cfea8518"
      },
      "execution_count": null,
      "outputs": [
        {
          "output_type": "execute_result",
          "data": {
            "text/plain": [
              "<IPython.core.display.Image object>"
            ],
            "image/png": "[encoded data removed]"
          },
          "metadata": {},
          "execution_count": 51
        }
      ]
    },
    {
      "cell_type": "code",
      "source": [
        "# visualising ANN\n",
        "from keras_sequential_ascii import keras2ascii\n",
        "keras2ascii(model)"
      ],
      "metadata": {
        "colab": {
          "base_uri": "https://localhost:8080/"
        },
        "id": "G3-IF4ygGW9F",
        "outputId": "6b108afb-cef7-4c11-9274-94c1bd24ffa6"
      },
      "execution_count": null,
      "outputs": [
        {
          "output_type": "stream",
          "name": "stdout",
          "text": [
            "           OPERATION           DATA DIMENSIONS   WEIGHTS(N)   WEIGHTS(%)\n",
            "\n",
            "               Input   #####          34\n",
            "               Dense   XXXXX -------------------       595    48.6%\n",
            "                relu   #####          17\n",
            "               Dense   XXXXX -------------------       306    25.0%\n",
            "                relu   #####          17\n",
            "               Dense   XXXXX -------------------       306    25.0%\n",
            "                relu   #####          17\n",
            "             Dropout    | || -------------------         0     0.0%\n",
            "                       #####          17\n",
            "               Dense   XXXXX -------------------        18     1.5%\n",
            "                relu   #####           1\n"
          ]
        }
      ]
    },
    {
      "cell_type": "markdown",
      "source": [
        "Model 3: ANN (Hyperparameter Tuning  - Third model tuning)"
      ],
      "metadata": {
        "id": "604eMcj8L0X5"
      }
    },
    {
      "cell_type": "code",
      "source": [
        "# Artificial Neural Network (ANN) \n",
        "# Level 1 - 17 neurons\n",
        "# Level 2 - 17 neurons\n",
        "# Level 3 - 17 neurons\n",
        "# Output - 1 neuron (relu)\n",
        "\n",
        "# Hyperparameter -> optimizer = 0.0004 learning rate\n",
        "\n",
        "from keras.layers import Dense, Dropout\n",
        "\n",
        "L1 = 17\n",
        "L2 = 17\n",
        "L3 = 17\n",
        "\n",
        "model = Sequential()\n",
        "\n",
        "# hidden layer\n",
        "model.add(Dense(L1, input_dim=34,activation = 'relu'))\n",
        "model.add(Dense(L2,activation = 'relu'))\n",
        "model.add(Dense(L3,activation = 'relu'))\n",
        "\n",
        "\n",
        "# output layer\n",
        "model.add(Dense(1,activation = 'relu')) "
      ],
      "metadata": {
        "id": "xO7e8gM1L2by"
      },
      "execution_count": null,
      "outputs": []
    },
    {
      "cell_type": "code",
      "source": [
        "model.summary()"
      ],
      "metadata": {
        "colab": {
          "base_uri": "https://localhost:8080/"
        },
        "id": "bsmgD28zwlYS",
        "outputId": "4fa56e38-044f-4a27-c161-256b0e748d4d"
      },
      "execution_count": null,
      "outputs": [
        {
          "output_type": "stream",
          "name": "stdout",
          "text": [
            "Model: \"sequential\"\n",
            "_________________________________________________________________\n",
            " Layer (type)                Output Shape              Param #   \n",
            "=================================================================\n",
            " dense (Dense)               (None, 17)                595       \n",
            "                                                                 \n",
            " dense_1 (Dense)             (None, 17)                306       \n",
            "                                                                 \n",
            " dense_2 (Dense)             (None, 17)                306       \n",
            "                                                                 \n",
            " dense_3 (Dense)             (None, 1)                 18        \n",
            "                                                                 \n",
            "=================================================================\n",
            "Total params: 1,225\n",
            "Trainable params: 1,225\n",
            "Non-trainable params: 0\n",
            "_________________________________________________________________\n"
          ]
        }
      ]
    },
    {
      "cell_type": "code",
      "source": [
        "from tensorflow import keras\n",
        "\n",
        "optimizer = keras.optimizers.Adam(learning_rate=0.0004) # hyperparameter 'learning rate'"
      ],
      "metadata": {
        "id": "WaGXlZ1sQBO-"
      },
      "execution_count": null,
      "outputs": []
    },
    {
      "cell_type": "code",
      "source": [
        "model.compile(loss='binary_crossentropy', optimizer=optimizer, metrics=['acc'])"
      ],
      "metadata": {
        "id": "lIB_NLg6MPwV"
      },
      "execution_count": null,
      "outputs": []
    },
    {
      "cell_type": "code",
      "source": [
        "history = model.fit(X_train, y_train_smote, epochs=20, batch_size=10, validation_data=(X_test,y_test))"
      ],
      "metadata": {
        "colab": {
          "base_uri": "https://localhost:8080/"
        },
        "id": "ryRokk14woB_",
        "outputId": "8add2bfb-f66d-4afd-ac79-d86e2888799a"
      },
      "execution_count": null,
      "outputs": [
        {
          "output_type": "stream",
          "name": "stdout",
          "text": [
            "Epoch 1/20\n",
            "5589/5589 [==============================] - 15s 3ms/step - loss: 0.5077 - acc: 0.7912 - val_loss: 0.4494 - val_acc: 0.8368\n",
            "Epoch 2/20\n",
            "5589/5589 [==============================] - 12s 2ms/step - loss: 0.3904 - acc: 0.8666 - val_loss: 0.3789 - val_acc: 0.8623\n",
            "Epoch 3/20\n",
            "5589/5589 [==============================] - 13s 2ms/step - loss: 0.3577 - acc: 0.8848 - val_loss: 0.3670 - val_acc: 0.8725\n",
            "Epoch 4/20\n",
            "5589/5589 [==============================] - 13s 2ms/step - loss: 0.4585 - acc: 0.8684 - val_loss: 0.4912 - val_acc: 0.8600\n",
            "Epoch 5/20\n",
            "5589/5589 [==============================] - 12s 2ms/step - loss: 0.3498 - acc: 0.8927 - val_loss: 0.4144 - val_acc: 0.8740\n",
            "Epoch 6/20\n",
            "5589/5589 [==============================] - 13s 2ms/step - loss: 0.3160 - acc: 0.9053 - val_loss: 0.4447 - val_acc: 0.8780\n",
            "Epoch 7/20\n",
            "5589/5589 [==============================] - 13s 2ms/step - loss: 0.3525 - acc: 0.8983 - val_loss: 0.3923 - val_acc: 0.8780\n",
            "Epoch 8/20\n",
            "5589/5589 [==============================] - 12s 2ms/step - loss: 0.3089 - acc: 0.9037 - val_loss: 0.3920 - val_acc: 0.8694\n",
            "Epoch 9/20\n",
            "5589/5589 [==============================] - 13s 2ms/step - loss: 0.2966 - acc: 0.9088 - val_loss: 0.3751 - val_acc: 0.8750\n",
            "Epoch 10/20\n",
            "5589/5589 [==============================] - 13s 2ms/step - loss: 0.3013 - acc: 0.9006 - val_loss: 0.3815 - val_acc: 0.8725\n",
            "Epoch 11/20\n",
            "5589/5589 [==============================] - 13s 2ms/step - loss: 0.2869 - acc: 0.9059 - val_loss: 0.3970 - val_acc: 0.8741\n",
            "Epoch 12/20\n",
            "5589/5589 [==============================] - 15s 3ms/step - loss: 0.3061 - acc: 0.9005 - val_loss: 0.3778 - val_acc: 0.8832\n",
            "Epoch 13/20\n",
            "5589/5589 [==============================] - 13s 2ms/step - loss: 0.2991 - acc: 0.9045 - val_loss: 0.3426 - val_acc: 0.8868\n",
            "Epoch 14/20\n",
            "5589/5589 [==============================] - 12s 2ms/step - loss: 0.2552 - acc: 0.9150 - val_loss: 0.4142 - val_acc: 0.8904\n",
            "Epoch 15/20\n",
            "5589/5589 [==============================] - 14s 2ms/step - loss: 0.3076 - acc: 0.9018 - val_loss: 0.5319 - val_acc: 0.7690\n",
            "Epoch 16/20\n",
            "5589/5589 [==============================] - 13s 2ms/step - loss: 0.3021 - acc: 0.8988 - val_loss: 0.4045 - val_acc: 0.8818\n",
            "Epoch 17/20\n",
            "5589/5589 [==============================] - 12s 2ms/step - loss: 0.2642 - acc: 0.9151 - val_loss: 0.3598 - val_acc: 0.8955\n",
            "Epoch 18/20\n",
            "5589/5589 [==============================] - 13s 2ms/step - loss: 0.2491 - acc: 0.9180 - val_loss: 0.3752 - val_acc: 0.8861\n",
            "Epoch 19/20\n",
            "5589/5589 [==============================] - 12s 2ms/step - loss: 0.2562 - acc: 0.9163 - val_loss: 0.3535 - val_acc: 0.8818\n",
            "Epoch 20/20\n",
            "5589/5589 [==============================] - 12s 2ms/step - loss: 0.2663 - acc: 0.9131 - val_loss: 0.3729 - val_acc: 0.8913\n"
          ]
        }
      ]
    },
    {
      "cell_type": "code",
      "source": [
        "# to plot the accuracy and loss for train and test \n",
        "import matplotlib.pyplot as plt\n",
        "\n",
        "acc = history.history['acc']\n",
        "val_acc = history.history['val_acc']\n",
        "loss = history.history['loss']\n",
        "val_loss = history.history['val_loss']\n",
        "\n",
        "epochs = range(1, len(acc)+1)\n",
        "\n",
        "plt.plot(epochs, acc, 'b', label = \"Train Accuracy\")\n",
        "plt.plot(epochs, val_acc, 'r', label = \"Test Accuracy\")\n",
        "plt.legend()\n",
        "plt.figure()\n",
        "plt.plot(epochs, loss, 'b', label = \"Train Loss\")\n",
        "plt.plot(epochs, val_loss, 'r', label = \"Test Loss\")\n",
        "plt.legend()\n",
        "plt.show()"
      ],
      "metadata": {
        "colab": {
          "base_uri": "https://localhost:8080/",
          "height": 513
        },
        "id": "8jN--_OoxhcK",
        "outputId": "87135ddc-4b16-482f-a04f-2cf354e12107"
      },
      "execution_count": null,
      "outputs": [
        {
          "output_type": "display_data",
          "data": {
            "text/plain": [
              "<Figure size 432x288 with 1 Axes>"
            ],
            "image/png": "[encoded data removed]"
          },
          "metadata": {
            "needs_background": "light"
          }
        },
        {
          "output_type": "display_data",
          "data": {
            "text/plain": [
              "<Figure size 432x288 with 1 Axes>"
            ],
            "image/png": "[encoded data removed]"
          },
          "metadata": {
            "needs_background": "light"
          }
        }
      ]
    },
    {
      "cell_type": "code",
      "source": [
        "# carry out predictions\n",
        "model3_y_pred = model.predict(X_test)\n",
        "model3_y_pred = (model3_y_pred > 0.5)"
      ],
      "metadata": {
        "id": "NqIODS01NalB"
      },
      "execution_count": null,
      "outputs": []
    },
    {
      "cell_type": "code",
      "source": [
        "# performance evaluation (confusion matrix)\n",
        "from sklearn.metrics import confusion_matrix\n",
        "m1_confusion_matrix = confusion_matrix(y_test, model3_y_pred)\n",
        "m1_confusion_matrix #print confusion matrix"
      ],
      "metadata": {
        "colab": {
          "base_uri": "https://localhost:8080/"
        },
        "id": "41wtAwarxncZ",
        "outputId": "e9b1326c-1ef8-4100-c02a-6e9601b837dd"
      },
      "execution_count": null,
      "outputs": [
        {
          "output_type": "execute_result",
          "data": {
            "text/plain": [
              "array([[11161,   816],\n",
              "       [  658,   929]])"
            ]
          },
          "metadata": {},
          "execution_count": 18
        }
      ]
    },
    {
      "cell_type": "code",
      "source": [
        "# Performance evaluation metrics (report)\n",
        "from sklearn.metrics import classification_report\n",
        "print(classification_report(y_test,model3_y_pred))"
      ],
      "metadata": {
        "colab": {
          "base_uri": "https://localhost:8080/"
        },
        "id": "GqZrtegSxppN",
        "outputId": "7cb29296-988f-4a6a-8e64-55ea9d14eb0c"
      },
      "execution_count": null,
      "outputs": [
        {
          "output_type": "stream",
          "name": "stdout",
          "text": [
            "              precision    recall  f1-score   support\n",
            "\n",
            "           0       0.94      0.93      0.94     11977\n",
            "           1       0.53      0.59      0.56      1587\n",
            "\n",
            "    accuracy                           0.89     13564\n",
            "   macro avg       0.74      0.76      0.75     13564\n",
            "weighted avg       0.90      0.89      0.89     13564\n",
            "\n"
          ]
        }
      ]
    },
    {
      "cell_type": "code",
      "source": [
        "# visualise the ANN architecture\n",
        "from keras.utils.vis_utils import plot_model\n",
        "\n",
        "plot_model(model,\n",
        "           to_file=\"model3.png\",\n",
        "           show_shapes=True,\n",
        "           show_layer_names=True,\n",
        "          )"
      ],
      "metadata": {
        "colab": {
          "base_uri": "https://localhost:8080/",
          "height": 533
        },
        "id": "DBY7IU6KORzn",
        "outputId": "c3d5a56b-3712-4906-945f-d6b3e9eabe49"
      },
      "execution_count": null,
      "outputs": [
        {
          "output_type": "execute_result",
          "data": {
            "text/plain": [
              "<IPython.core.display.Image object>"
            ],
            "image/png": "[encoded data removed]"
          },
          "metadata": {},
          "execution_count": 20
        }
      ]
    },
    {
      "cell_type": "code",
      "source": [
        "!pip install keras_sequential_ascii"
      ],
      "metadata": {
        "colab": {
          "base_uri": "https://localhost:8080/"
        },
        "id": "Sufi-CC4Om3I",
        "outputId": "72354e81-c829-46e4-bcd8-a3957a71c7d4"
      },
      "execution_count": null,
      "outputs": [
        {
          "output_type": "stream",
          "name": "stdout",
          "text": [
            "Looking in indexes: https://pypi.org/simple, https://us-python.pkg.dev/colab-wheels/public/simple/\n",
            "Collecting keras_sequential_ascii\n",
            "  Downloading keras_sequential_ascii-0.1.1.tar.gz (3.5 kB)\n",
            "Requirement already satisfied: keras in /usr/local/lib/python3.7/dist-packages (from keras_sequential_ascii) (2.8.0)\n",
            "Building wheels for collected packages: keras-sequential-ascii\n",
            "  Building wheel for keras-sequential-ascii (setup.py) ... \u001b[?25l\u001b[?25hdone\n",
            "  Created wheel for keras-sequential-ascii: filename=keras_sequential_ascii-0.1.1-py3-none-any.whl size=3063 sha256=76a5a8be6261132b226a86ad561fcd728a126b1c85262c9dc5327076d4f7f576\n",
            "  Stored in directory: /root/.cache/pip/wheels/4e/99/75/8910ced4b40e8c20088c237fa706b32ac758321482ae2659e3\n",
            "Successfully built keras-sequential-ascii\n",
            "Installing collected packages: keras-sequential-ascii\n",
            "Successfully installed keras-sequential-ascii-0.1.1\n"
          ]
        }
      ]
    },
    {
      "cell_type": "code",
      "source": [
        "# visualising ANN - model 3\n",
        "from keras_sequential_ascii import keras2ascii\n",
        "keras2ascii(model)"
      ],
      "metadata": {
        "colab": {
          "base_uri": "https://localhost:8080/"
        },
        "id": "aoEEki46OUZb",
        "outputId": "d153d144-6061-4975-e33a-00f9fa0a8c7b"
      },
      "execution_count": null,
      "outputs": [
        {
          "output_type": "stream",
          "name": "stdout",
          "text": [
            "           OPERATION           DATA DIMENSIONS   WEIGHTS(N)   WEIGHTS(%)\n",
            "\n",
            "               Input   #####          34\n",
            "               Dense   XXXXX -------------------       595    48.6%\n",
            "                relu   #####          17\n",
            "               Dense   XXXXX -------------------       306    25.0%\n",
            "                relu   #####          17\n",
            "               Dense   XXXXX -------------------       306    25.0%\n",
            "                relu   #####          17\n",
            "               Dense   XXXXX -------------------        18     1.5%\n",
            "                relu   #####           1\n"
          ]
        }
      ]
    },
    {
      "cell_type": "markdown",
      "source": [
        "Model 4: ANN (Hyperparameter Tuning  - Fourth model tuning)\n"
      ],
      "metadata": {
        "id": "sfCfVmKmOtuJ"
      }
    },
    {
      "cell_type": "code",
      "source": [
        "# Artificial Neural Network (ANN)\n",
        "\n",
        "# Level 1 - 100 neurons\n",
        "# Level 2 - 100 neurons\n",
        "# Level 3 - 100 neurons\n",
        "# Dropoout (0.2) -> to prevent model from overfitting\n",
        "# Output - 1 neuron (Activation Function -> sigmoid)\n",
        "# Learning Rate - 0.0004\n",
        "\n",
        "L1 = 100\n",
        "L2 = 100\n",
        "L3 = 100\n",
        "\n",
        "model = Sequential()\n",
        "\n",
        "# hidden layer\n",
        "model.add(Dense(L1, input_dim=34,activation = 'relu'))\n",
        "model.add(Dense(L2,activation = 'relu'))\n",
        "model.add(Dense(L3,activation = 'relu'))\n",
        "\n",
        "#Dropout\n",
        "model.add(Dropout(rate=0.2))\n",
        "\n",
        "# output layer\n",
        "model.add(Dense(1,activation = 'sigmoid')) "
      ],
      "metadata": {
        "id": "QjcYp6yg9-Jq"
      },
      "execution_count": null,
      "outputs": []
    },
    {
      "cell_type": "code",
      "source": [
        "model.summary()"
      ],
      "metadata": {
        "colab": {
          "base_uri": "https://localhost:8080/"
        },
        "id": "ZA-cZf5UAfIQ",
        "outputId": "848e3dce-b825-4e51-d2f5-801c427ebd3e"
      },
      "execution_count": null,
      "outputs": [
        {
          "output_type": "stream",
          "name": "stdout",
          "text": [
            "Model: \"sequential_2\"\n",
            "_________________________________________________________________\n",
            " Layer (type)                Output Shape              Param #   \n",
            "=================================================================\n",
            " dense_8 (Dense)             (None, 100)               3500      \n",
            "                                                                 \n",
            " dense_9 (Dense)             (None, 100)               10100     \n",
            "                                                                 \n",
            " dense_10 (Dense)            (None, 100)               10100     \n",
            "                                                                 \n",
            " dropout (Dropout)           (None, 100)               0         \n",
            "                                                                 \n",
            " dense_11 (Dense)            (None, 1)                 101       \n",
            "                                                                 \n",
            "=================================================================\n",
            "Total params: 23,801\n",
            "Trainable params: 23,801\n",
            "Non-trainable params: 0\n",
            "_________________________________________________________________\n"
          ]
        }
      ]
    },
    {
      "cell_type": "code",
      "source": [
        "from tensorflow import keras\n",
        "\n",
        "optimizer = keras.optimizers.Adam(learning_rate=0.0004) # hyperparameter 'learning rate'"
      ],
      "metadata": {
        "id": "o8YkSKNrAh5r"
      },
      "execution_count": null,
      "outputs": []
    },
    {
      "cell_type": "code",
      "source": [
        "model.compile(loss='binary_crossentropy', optimizer=optimizer, metrics=['acc'])"
      ],
      "metadata": {
        "id": "G5WRFmgcAwsm"
      },
      "execution_count": null,
      "outputs": []
    },
    {
      "cell_type": "code",
      "source": [
        "history = model.fit(X_train, y_train_smote, epochs=20, batch_size=32, validation_data=(X_test,y_test))"
      ],
      "metadata": {
        "colab": {
          "base_uri": "https://localhost:8080/"
        },
        "id": "t4VsXT6vA37x",
        "outputId": "ed2ad0ec-660a-49b5-ceb7-7c580edef411"
      },
      "execution_count": null,
      "outputs": [
        {
          "output_type": "stream",
          "name": "stdout",
          "text": [
            "Epoch 1/20\n",
            "1747/1747 [==============================] - 6s 3ms/step - loss: 0.2867 - acc: 0.8817 - val_loss: 0.2676 - val_acc: 0.8896\n",
            "Epoch 2/20\n",
            "1747/1747 [==============================] - 5s 3ms/step - loss: 0.2036 - acc: 0.9196 - val_loss: 0.2823 - val_acc: 0.8829\n",
            "Epoch 3/20\n",
            "1747/1747 [==============================] - 5s 3ms/step - loss: 0.1875 - acc: 0.9255 - val_loss: 0.2693 - val_acc: 0.8871\n",
            "Epoch 4/20\n",
            "1747/1747 [==============================] - 5s 3ms/step - loss: 0.1790 - acc: 0.9279 - val_loss: 0.2564 - val_acc: 0.8893\n",
            "Epoch 5/20\n",
            "1747/1747 [==============================] - 5s 3ms/step - loss: 0.1713 - acc: 0.9298 - val_loss: 0.2664 - val_acc: 0.8852\n",
            "Epoch 6/20\n",
            "1747/1747 [==============================] - 5s 3ms/step - loss: 0.1647 - acc: 0.9318 - val_loss: 0.2462 - val_acc: 0.8907\n",
            "Epoch 7/20\n",
            "1747/1747 [==============================] - 5s 3ms/step - loss: 0.1585 - acc: 0.9331 - val_loss: 0.2488 - val_acc: 0.8910\n",
            "Epoch 8/20\n",
            "1747/1747 [==============================] - 5s 3ms/step - loss: 0.1537 - acc: 0.9342 - val_loss: 0.2731 - val_acc: 0.8754\n",
            "Epoch 9/20\n",
            "1747/1747 [==============================] - 5s 3ms/step - loss: 0.1507 - acc: 0.9348 - val_loss: 0.2573 - val_acc: 0.8860\n",
            "Epoch 10/20\n",
            "1747/1747 [==============================] - 5s 3ms/step - loss: 0.1480 - acc: 0.9362 - val_loss: 0.2328 - val_acc: 0.8980\n",
            "Epoch 11/20\n",
            "1747/1747 [==============================] - 5s 3ms/step - loss: 0.1457 - acc: 0.9372 - val_loss: 0.2489 - val_acc: 0.8892\n",
            "Epoch 12/20\n",
            "1747/1747 [==============================] - 5s 3ms/step - loss: 0.1432 - acc: 0.9379 - val_loss: 0.2377 - val_acc: 0.8948\n",
            "Epoch 13/20\n",
            "1747/1747 [==============================] - 5s 3ms/step - loss: 0.1405 - acc: 0.9389 - val_loss: 0.2320 - val_acc: 0.8965\n",
            "Epoch 14/20\n",
            "1747/1747 [==============================] - 5s 3ms/step - loss: 0.1392 - acc: 0.9391 - val_loss: 0.2545 - val_acc: 0.8885\n",
            "Epoch 15/20\n",
            "1747/1747 [==============================] - 5s 3ms/step - loss: 0.1369 - acc: 0.9397 - val_loss: 0.2359 - val_acc: 0.8972\n",
            "Epoch 16/20\n",
            "1747/1747 [==============================] - 5s 3ms/step - loss: 0.1361 - acc: 0.9401 - val_loss: 0.2503 - val_acc: 0.9037\n",
            "Epoch 17/20\n",
            "1747/1747 [==============================] - 5s 3ms/step - loss: 0.1344 - acc: 0.9408 - val_loss: 0.2261 - val_acc: 0.8998\n",
            "Epoch 18/20\n",
            "1747/1747 [==============================] - 5s 3ms/step - loss: 0.1325 - acc: 0.9415 - val_loss: 0.2502 - val_acc: 0.8888\n",
            "Epoch 19/20\n",
            "1747/1747 [==============================] - 6s 3ms/step - loss: 0.1326 - acc: 0.9423 - val_loss: 0.2499 - val_acc: 0.8936\n",
            "Epoch 20/20\n",
            "1747/1747 [==============================] - 5s 3ms/step - loss: 0.1311 - acc: 0.9412 - val_loss: 0.2329 - val_acc: 0.9029\n"
          ]
        }
      ]
    },
    {
      "cell_type": "code",
      "source": [
        "# to plot the accuracy and loss for train and test \n",
        "import matplotlib.pyplot as plt\n",
        "\n",
        "acc = history.history['acc']\n",
        "val_acc = history.history['val_acc']\n",
        "loss = history.history['loss']\n",
        "val_loss = history.history['val_loss']\n",
        "\n",
        "epochs = range(1, len(acc)+1)\n",
        "\n",
        "plt.plot(epochs, acc, 'b', label = \"Train Accuracy\")\n",
        "plt.plot(epochs, val_acc, 'r', label = \"Test Accuracy\")\n",
        "plt.legend()\n",
        "plt.figure()\n",
        "plt.plot(epochs, loss, 'b', label = \"Train Loss\")\n",
        "plt.plot(epochs, val_loss, 'r', label = \"Test Loss\")\n",
        "plt.legend()\n",
        "plt.show()"
      ],
      "metadata": {
        "colab": {
          "base_uri": "https://localhost:8080/",
          "height": 513
        },
        "id": "j_Eq0Fz6HeOg",
        "outputId": "8ca365aa-c9bd-4938-d5a2-5384233a0eb5"
      },
      "execution_count": null,
      "outputs": [
        {
          "output_type": "display_data",
          "data": {
            "text/plain": [
              "<Figure size 432x288 with 1 Axes>"
            ],
            "image/png": "[encoded data removed]"
          },
          "metadata": {
            "needs_background": "light"
          }
        },
        {
          "output_type": "display_data",
          "data": {
            "text/plain": [
              "<Figure size 432x288 with 1 Axes>"
            ],
            "image/png": "[encoded data removed]"
          },
          "metadata": {
            "needs_background": "light"
          }
        }
      ]
    },
    {
      "cell_type": "code",
      "source": [
        "# carry out predictions\n",
        "model4_y_pred = model.predict(X_test)\n",
        "model4_y_pred = (model4_y_pred > 0.5)"
      ],
      "metadata": {
        "id": "PsY5d3PdHlSD"
      },
      "execution_count": null,
      "outputs": []
    },
    {
      "cell_type": "code",
      "source": [
        "# performance evaluation (confusion matrix)\n",
        "from sklearn.metrics import confusion_matrix\n",
        "m4_confusion_matrix = confusion_matrix(y_test, model4_y_pred)\n",
        "m4_confusion_matrix #print confusion matrix"
      ],
      "metadata": {
        "colab": {
          "base_uri": "https://localhost:8080/"
        },
        "id": "-h3whzeVHxY-",
        "outputId": "613baa6b-570e-46bf-bfad-7d18c337c3be"
      },
      "execution_count": null,
      "outputs": [
        {
          "output_type": "execute_result",
          "data": {
            "text/plain": [
              "array([[11443,   534],\n",
              "       [  783,   804]])"
            ]
          },
          "metadata": {},
          "execution_count": 38
        }
      ]
    },
    {
      "cell_type": "code",
      "source": [
        "# Performance evaluation metrics (report)\n",
        "from sklearn.metrics import classification_report\n",
        "print(classification_report(y_test,model4_y_pred))"
      ],
      "metadata": {
        "colab": {
          "base_uri": "https://localhost:8080/"
        },
        "id": "o9wUe04YH08y",
        "outputId": "8770b4a7-d83e-4621-8bc8-14abcb02d079"
      },
      "execution_count": null,
      "outputs": [
        {
          "output_type": "stream",
          "name": "stdout",
          "text": [
            "              precision    recall  f1-score   support\n",
            "\n",
            "           0       0.94      0.96      0.95     11977\n",
            "           1       0.60      0.51      0.55      1587\n",
            "\n",
            "    accuracy                           0.90     13564\n",
            "   macro avg       0.77      0.73      0.75     13564\n",
            "weighted avg       0.90      0.90      0.90     13564\n",
            "\n"
          ]
        }
      ]
    },
    {
      "cell_type": "code",
      "source": [
        "# visualise the ANN architecture\n",
        "from keras.utils.vis_utils import plot_model\n",
        "\n",
        "plot_model(model,to_file=\"model4.png\",show_shapes=True,show_layer_names=True)"
      ],
      "metadata": {
        "colab": {
          "base_uri": "https://localhost:8080/",
          "height": 644
        },
        "id": "D8HsmxJAH9Lg",
        "outputId": "5ad89153-41e2-40a8-bf5d-fa4a3d726ec2"
      },
      "execution_count": null,
      "outputs": [
        {
          "output_type": "execute_result",
          "data": {
            "text/plain": [
              "<IPython.core.display.Image object>"
            ],
            "image/png": "[encoded data removed]"
          },
          "metadata": {},
          "execution_count": 40
        }
      ]
    },
    {
      "cell_type": "code",
      "source": [
        "# visualising ANN\n",
        "from keras_sequential_ascii import keras2ascii\n",
        "keras2ascii(model)"
      ],
      "metadata": {
        "colab": {
          "base_uri": "https://localhost:8080/"
        },
        "id": "YrBh93lKQ7Kn",
        "outputId": "f7685191-5b52-4e37-cd9b-e394ae562d51"
      },
      "execution_count": null,
      "outputs": [
        {
          "output_type": "stream",
          "name": "stdout",
          "text": [
            "           OPERATION           DATA DIMENSIONS   WEIGHTS(N)   WEIGHTS(%)\n",
            "\n",
            "               Input   #####          34\n",
            "               Dense   XXXXX -------------------      1190    56.4%\n",
            "                relu   #####          34\n",
            "               Dense   XXXXX -------------------       595    28.2%\n",
            "                relu   #####          17\n",
            "               Dense   XXXXX -------------------       306    14.5%\n",
            "                relu   #####          17\n",
            "             Dropout    | || -------------------         0     0.0%\n",
            "                       #####          17\n",
            "               Dense   XXXXX -------------------        18     0.9%\n",
            "             sigmoid   #####           1\n"
          ]
        }
      ]
    },
    {
      "cell_type": "markdown",
      "source": [
        "Model 5: RNN (Hyperparameter Tuning  - First model tuning)\n"
      ],
      "metadata": {
        "id": "DvqCo_QfGciP"
      }
    },
    {
      "cell_type": "code",
      "source": [
        "# Import libraries\n",
        "from keras.models import Sequential\n",
        "from keras.layers import Dense, Embedding, SimpleRNN, LSTM, GRU\n",
        "from keras.preprocessing import sequence\n",
        "import numpy as np\n",
        "\n",
        "model = Sequential()\n",
        "\n",
        "# RNN\n",
        "model.add(SimpleRNN(34, input_shape = (34,1), return_sequences=False, activation = \"relu\")) # simplernn the model\n",
        "\n",
        "#Dropout\n",
        "model.add(Dropout(rate=0.2))\n",
        "\n",
        "model.add(Dense(1, activation = \"relu\")) #binary classification"
      ],
      "metadata": {
        "id": "bOG-Z97xwdDl"
      },
      "execution_count": null,
      "outputs": []
    },
    {
      "cell_type": "code",
      "source": [
        "model.summary()"
      ],
      "metadata": {
        "colab": {
          "base_uri": "https://localhost:8080/"
        },
        "id": "Y3MLhEEJxotp",
        "outputId": "b620d2fe-b04e-42a2-e1df-6ae14818f27c"
      },
      "execution_count": null,
      "outputs": [
        {
          "output_type": "stream",
          "name": "stdout",
          "text": [
            "Model: \"sequential_1\"\n",
            "_________________________________________________________________\n",
            " Layer (type)                Output Shape              Param #   \n",
            "=================================================================\n",
            " simple_rnn_1 (SimpleRNN)    (None, 34)                1224      \n",
            "                                                                 \n",
            " dropout_1 (Dropout)         (None, 34)                0         \n",
            "                                                                 \n",
            " dense_1 (Dense)             (None, 1)                 35        \n",
            "                                                                 \n",
            "=================================================================\n",
            "Total params: 1,259\n",
            "Trainable params: 1,259\n",
            "Non-trainable params: 0\n",
            "_________________________________________________________________\n"
          ]
        }
      ]
    },
    {
      "cell_type": "code",
      "source": [
        "model.compile(loss='binary_crossentropy', optimizer='adam', metrics=['acc'])"
      ],
      "metadata": {
        "id": "LGxdv-H6xuF9"
      },
      "execution_count": null,
      "outputs": []
    },
    {
      "cell_type": "code",
      "source": [
        "history = model.fit(X_train, y_train_smote, epochs=10, batch_size=32, validation_data=(X_test,y_test))"
      ],
      "metadata": {
        "colab": {
          "base_uri": "https://localhost:8080/"
        },
        "id": "xydx0onHx2lx",
        "outputId": "c3c44d0f-2af4-42f8-ff54-5bbb6ef4530b"
      },
      "execution_count": null,
      "outputs": [
        {
          "output_type": "stream",
          "name": "stdout",
          "text": [
            "Epoch 1/10\n",
            "1747/1747 [==============================] - 17s 8ms/step - loss: 0.6950 - acc: 0.6360 - val_loss: 0.4903 - val_acc: 0.8471\n",
            "Epoch 2/10\n",
            "1747/1747 [==============================] - 13s 7ms/step - loss: 0.5967 - acc: 0.6822 - val_loss: 0.6360 - val_acc: 0.7563\n",
            "Epoch 3/10\n",
            "1747/1747 [==============================] - 13s 7ms/step - loss: 0.5660 - acc: 0.7193 - val_loss: 0.5289 - val_acc: 0.8777\n",
            "Epoch 4/10\n",
            "1747/1747 [==============================] - 13s 7ms/step - loss: 0.4716 - acc: 0.7719 - val_loss: 0.4049 - val_acc: 0.8803\n",
            "Epoch 5/10\n",
            "1747/1747 [==============================] - 13s 7ms/step - loss: 0.3729 - acc: 0.8487 - val_loss: 0.4037 - val_acc: 0.8757\n",
            "Epoch 6/10\n",
            "1747/1747 [==============================] - 13s 7ms/step - loss: 0.4761 - acc: 0.7863 - val_loss: 0.5349 - val_acc: 0.8733\n",
            "Epoch 7/10\n",
            "1747/1747 [==============================] - 13s 7ms/step - loss: 0.4752 - acc: 0.7817 - val_loss: 0.4214 - val_acc: 0.8773\n",
            "Epoch 8/10\n",
            "1747/1747 [==============================] - 13s 7ms/step - loss: 0.4232 - acc: 0.8243 - val_loss: 0.3881 - val_acc: 0.8820\n",
            "Epoch 9/10\n",
            "1747/1747 [==============================] - 13s 7ms/step - loss: 0.4563 - acc: 0.7794 - val_loss: 0.4914 - val_acc: 0.8817\n",
            "Epoch 10/10\n",
            "1747/1747 [==============================] - 13s 7ms/step - loss: 0.4842 - acc: 0.7862 - val_loss: 0.5402 - val_acc: 0.8756\n"
          ]
        }
      ]
    },
    {
      "cell_type": "code",
      "source": [
        "# to plot the accuracy and loss for train and test \n",
        "import matplotlib.pyplot as plt\n",
        "\n",
        "acc = history.history['acc']\n",
        "val_acc = history.history['val_acc']\n",
        "loss = history.history['loss']\n",
        "val_loss = history.history['val_loss']\n",
        "\n",
        "epochs = range(1, len(acc)+1)\n",
        "\n",
        "plt.plot(epochs, acc, 'b', label = \"Train Accuracy\")\n",
        "plt.plot(epochs, val_acc, 'r', label = \"Test Accuracy\")\n",
        "plt.legend()\n",
        "plt.figure()\n",
        "plt.plot(epochs, loss, 'b', label = \"Train Loss\")\n",
        "plt.plot(epochs, val_loss, 'r', label = \"Test Loss\")\n",
        "plt.legend()\n",
        "plt.show()"
      ],
      "metadata": {
        "colab": {
          "base_uri": "https://localhost:8080/",
          "height": 513
        },
        "id": "3vSe16605KTf",
        "outputId": "bda1a3f3-5e12-40fd-d0b4-f0767d8b1032"
      },
      "execution_count": null,
      "outputs": [
        {
          "output_type": "display_data",
          "data": {
            "text/plain": [
              "<Figure size 432x288 with 1 Axes>"
            ],
            "image/png": "[encoded data removed]"
          },
          "metadata": {
            "needs_background": "light"
          }
        },
        {
          "output_type": "display_data",
          "data": {
            "text/plain": [
              "<Figure size 432x288 with 1 Axes>"
            ],
            "image/png": "[encoded data removed]"
          },
          "metadata": {
            "needs_background": "light"
          }
        }
      ]
    },
    {
      "cell_type": "code",
      "source": [
        "# carry out predictions\n",
        "model5_y_pred = model.predict(X_test)\n",
        "model5_y_pred = (model5_y_pred > 0.5)"
      ],
      "metadata": {
        "id": "y_Rw3MM-5OE9"
      },
      "execution_count": null,
      "outputs": []
    },
    {
      "cell_type": "code",
      "source": [
        "# performance evaluation (confusion matrix)\n",
        "from sklearn.metrics import confusion_matrix\n",
        "m5_confusion_matrix = confusion_matrix(y_test, model5_y_pred)\n",
        "m5_confusion_matrix #print confusion matrix"
      ],
      "metadata": {
        "colab": {
          "base_uri": "https://localhost:8080/"
        },
        "id": "XdaLRs6m5c9m",
        "outputId": "4a47903b-60fe-4d4e-fb75-a45dc7ede4ef"
      },
      "execution_count": null,
      "outputs": [
        {
          "output_type": "execute_result",
          "data": {
            "text/plain": [
              "array([[11600,   377],\n",
              "       [ 1311,   276]])"
            ]
          },
          "metadata": {},
          "execution_count": 21
        }
      ]
    },
    {
      "cell_type": "code",
      "source": [
        "# Performance evaluation metrics (report)\n",
        "from sklearn.metrics import classification_report\n",
        "print(classification_report(y_test,model5_y_pred))"
      ],
      "metadata": {
        "colab": {
          "base_uri": "https://localhost:8080/"
        },
        "id": "LNiEYEkq5hGa",
        "outputId": "4b27cf70-45b3-4daf-f763-e650403d6e56"
      },
      "execution_count": null,
      "outputs": [
        {
          "output_type": "stream",
          "name": "stdout",
          "text": [
            "              precision    recall  f1-score   support\n",
            "\n",
            "           0       0.90      0.97      0.93     11977\n",
            "           1       0.42      0.17      0.25      1587\n",
            "\n",
            "    accuracy                           0.88     13564\n",
            "   macro avg       0.66      0.57      0.59     13564\n",
            "weighted avg       0.84      0.88      0.85     13564\n",
            "\n"
          ]
        }
      ]
    },
    {
      "cell_type": "code",
      "source": [
        "# visualise the ANN architecture\n",
        "from keras.utils.vis_utils import plot_model\n",
        "\n",
        "plot_model(model,to_file=\"model5.png\",show_shapes=True,show_layer_names=True)"
      ],
      "metadata": {
        "colab": {
          "base_uri": "https://localhost:8080/",
          "height": 422
        },
        "id": "Fzrqn-km5i2M",
        "outputId": "42691f60-7986-4610-efda-b7f77c193bbb"
      },
      "execution_count": null,
      "outputs": [
        {
          "output_type": "execute_result",
          "data": {
            "text/plain": [
              "<IPython.core.display.Image object>"
            ],
            "image/png": "[encoded data removed]"
          },
          "metadata": {},
          "execution_count": 23
        }
      ]
    },
    {
      "cell_type": "code",
      "source": [
        "# visualising RNN\n",
        "from keras_sequential_ascii import keras2ascii\n",
        "keras2ascii(model)"
      ],
      "metadata": {
        "colab": {
          "base_uri": "https://localhost:8080/"
        },
        "id": "-XZXTPAd5u1t",
        "outputId": "620f9d29-ff38-4380-eb13-2bfa3b7e327e"
      },
      "execution_count": null,
      "outputs": [
        {
          "output_type": "stream",
          "name": "stdout",
          "text": [
            "           OPERATION           DATA DIMENSIONS   WEIGHTS(N)   WEIGHTS(%)\n",
            "\n",
            "               Input   #####     34    1\n",
            "           SimpleRNN   ????? -------------------      1224    97.2%\n",
            "                relu   #####          34\n",
            "             Dropout    | || -------------------         0     0.0%\n",
            "                       #####          34\n",
            "               Dense   XXXXX -------------------        35     2.8%\n",
            "                relu   #####           1\n"
          ]
        }
      ]
    },
    {
      "cell_type": "markdown",
      "source": [
        "Model 6: RNN (Hyperparameter Tuning  - Second model tuning)"
      ],
      "metadata": {
        "id": "mIunsLK9AY0z"
      }
    },
    {
      "cell_type": "code",
      "source": [
        "# Import libraries\n",
        "from keras.models import Sequential\n",
        "from keras.layers import Dense, Embedding, SimpleRNN, LSTM, GRU\n",
        "from keras.preprocessing import sequence\n",
        "import numpy as np\n",
        "\n",
        "model = Sequential()\n",
        "\n",
        "# RNN\n",
        "model.add(SimpleRNN(34, input_shape = (34,1), return_sequences=False, activation = \"relu\")) # simplernn the model\n",
        "\n",
        "#Dropout\n",
        "model.add(Dropout(rate=0.2)) # to prevent model from overfitting\n",
        "\n",
        "model.add(Dense(1, activation = \"relu\")) #binary classification"
      ],
      "metadata": {
        "id": "nNP4f6PTCJO9"
      },
      "execution_count": null,
      "outputs": []
    },
    {
      "cell_type": "code",
      "source": [
        "from tensorflow import keras\n",
        "\n",
        "optimizer = keras.optimizers.Adam(learning_rate=0.0004) # hyperparameter 'learning rate'"
      ],
      "metadata": {
        "id": "yb-VXDuDAZnn"
      },
      "execution_count": null,
      "outputs": []
    },
    {
      "cell_type": "code",
      "source": [
        "model.compile(loss='binary_crossentropy', optimizer=optimizer, metrics=['acc'])"
      ],
      "metadata": {
        "id": "m7yU2SIKAgJ_"
      },
      "execution_count": null,
      "outputs": []
    },
    {
      "cell_type": "code",
      "source": [
        "history = model.fit(X_train, y_train_smote, epochs=10, batch_size=32, validation_data=(X_test,y_test))"
      ],
      "metadata": {
        "colab": {
          "base_uri": "https://localhost:8080/"
        },
        "id": "9U8vg-k2Aivv",
        "outputId": "6c9faf4c-721a-46ea-995f-bb4a2398764a"
      },
      "execution_count": null,
      "outputs": [
        {
          "output_type": "stream",
          "name": "stdout",
          "text": [
            "Epoch 1/10\n",
            "1747/1747 [==============================] - 15s 8ms/step - loss: 0.7712 - acc: 0.5681 - val_loss: 0.3645 - val_acc: 0.8815\n",
            "Epoch 2/10\n",
            "1747/1747 [==============================] - 13s 7ms/step - loss: 0.4999 - acc: 0.7788 - val_loss: 0.4092 - val_acc: 0.8830\n",
            "Epoch 3/10\n",
            "1747/1747 [==============================] - 15s 8ms/step - loss: 0.6827 - acc: 0.6546 - val_loss: 0.4819 - val_acc: 0.8613\n",
            "Epoch 4/10\n",
            "1747/1747 [==============================] - 13s 8ms/step - loss: 0.5012 - acc: 0.7786 - val_loss: 0.4313 - val_acc: 0.8632\n",
            "Epoch 5/10\n",
            "1747/1747 [==============================] - 13s 7ms/step - loss: 0.6043 - acc: 0.6822 - val_loss: 0.4491 - val_acc: 0.8830\n",
            "Epoch 6/10\n",
            "1747/1747 [==============================] - 13s 8ms/step - loss: 0.4543 - acc: 0.7876 - val_loss: 0.4761 - val_acc: 0.8646\n",
            "Epoch 7/10\n",
            "1747/1747 [==============================] - 13s 7ms/step - loss: 0.4197 - acc: 0.8147 - val_loss: 0.3840 - val_acc: 0.8790\n",
            "Epoch 8/10\n",
            "1747/1747 [==============================] - 13s 8ms/step - loss: 0.5107 - acc: 0.7542 - val_loss: 0.5468 - val_acc: 0.8486\n",
            "Epoch 9/10\n",
            "1747/1747 [==============================] - 13s 8ms/step - loss: 0.3420 - acc: 0.8631 - val_loss: 0.3609 - val_acc: 0.8805\n",
            "Epoch 10/10\n",
            "1747/1747 [==============================] - 13s 7ms/step - loss: 0.2746 - acc: 0.8927 - val_loss: 0.3308 - val_acc: 0.8820\n"
          ]
        }
      ]
    },
    {
      "cell_type": "code",
      "source": [
        "# to plot the accuracy and loss for train and test \n",
        "import matplotlib.pyplot as plt\n",
        "\n",
        "acc = history.history['acc']\n",
        "val_acc = history.history['val_acc']\n",
        "loss = history.history['loss']\n",
        "val_loss = history.history['val_loss']\n",
        "\n",
        "epochs = range(1, len(acc)+1)\n",
        "\n",
        "plt.plot(epochs, acc, 'b', label = \"Train Accuracy\")\n",
        "plt.plot(epochs, val_acc, 'r', label = \"Test Accuracy\")\n",
        "plt.legend()\n",
        "plt.figure()\n",
        "plt.plot(epochs, loss, 'b', label = \"Train Loss\")\n",
        "plt.plot(epochs, val_loss, 'r', label = \"Test Loss\")\n",
        "plt.legend()\n",
        "plt.show()"
      ],
      "metadata": {
        "colab": {
          "base_uri": "https://localhost:8080/",
          "height": 513
        },
        "id": "t4fFcZLABkXv",
        "outputId": "0944ab73-9bfc-4d0d-cfac-e6b78c8b9543"
      },
      "execution_count": null,
      "outputs": [
        {
          "output_type": "display_data",
          "data": {
            "text/plain": [
              "<Figure size 432x288 with 1 Axes>"
            ],
            "image/png": "[encoded data removed]"
          },
          "metadata": {
            "needs_background": "light"
          }
        },
        {
          "output_type": "display_data",
          "data": {
            "text/plain": [
              "<Figure size 432x288 with 1 Axes>"
            ],
            "image/png": "[encoded data removed]"
          },
          "metadata": {
            "needs_background": "light"
          }
        }
      ]
    },
    {
      "cell_type": "code",
      "source": [
        "# carry out predictions\n",
        "model6_y_pred = model.predict(X_test)\n",
        "model6_y_pred = (model6_y_pred > 0.5)"
      ],
      "metadata": {
        "id": "ptXQvqW-Blxv"
      },
      "execution_count": null,
      "outputs": []
    },
    {
      "cell_type": "code",
      "source": [
        "# performance evaluation (confusion matrix)\n",
        "from sklearn.metrics import confusion_matrix\n",
        "m6_confusion_matrix = confusion_matrix(y_test, model6_y_pred)\n",
        "m6_confusion_matrix #print confusion matrix"
      ],
      "metadata": {
        "colab": {
          "base_uri": "https://localhost:8080/"
        },
        "id": "0GBKUVeDBqeU",
        "outputId": "bfe800f5-9693-4536-f508-5b244a82b432"
      },
      "execution_count": null,
      "outputs": [
        {
          "output_type": "execute_result",
          "data": {
            "text/plain": [
              "array([[11876,   101],\n",
              "       [ 1500,    87]])"
            ]
          },
          "metadata": {},
          "execution_count": 31
        }
      ]
    },
    {
      "cell_type": "code",
      "source": [
        "# Performance evaluation metrics (report)\n",
        "from sklearn.metrics import classification_report\n",
        "print(classification_report(y_test,model6_y_pred))"
      ],
      "metadata": {
        "colab": {
          "base_uri": "https://localhost:8080/"
        },
        "id": "MNSKfdUwBvr9",
        "outputId": "3306a1b8-57d0-4bed-984b-39ff1e9dcd22"
      },
      "execution_count": null,
      "outputs": [
        {
          "output_type": "stream",
          "name": "stdout",
          "text": [
            "              precision    recall  f1-score   support\n",
            "\n",
            "           0       0.89      0.99      0.94     11977\n",
            "           1       0.46      0.05      0.10      1587\n",
            "\n",
            "    accuracy                           0.88     13564\n",
            "   macro avg       0.68      0.52      0.52     13564\n",
            "weighted avg       0.84      0.88      0.84     13564\n",
            "\n"
          ]
        }
      ]
    },
    {
      "cell_type": "code",
      "source": [
        "# visualise the ANN architecture\n",
        "from keras.utils.vis_utils import plot_model\n",
        "\n",
        "plot_model(model,to_file=\"model6.png\",show_shapes=True,show_layer_names=True)"
      ],
      "metadata": {
        "colab": {
          "base_uri": "https://localhost:8080/",
          "height": 422
        },
        "id": "r48u1sXZB_7G",
        "outputId": "5f9ddec2-90ba-4516-9f41-9849a838217b"
      },
      "execution_count": null,
      "outputs": [
        {
          "output_type": "execute_result",
          "data": {
            "text/plain": [
              "<IPython.core.display.Image object>"
            ],
            "image/png": "[encoded data removed]"
          },
          "metadata": {},
          "execution_count": 34
        }
      ]
    },
    {
      "cell_type": "code",
      "source": [
        "# visualising RNN\n",
        "from keras_sequential_ascii import keras2ascii\n",
        "keras2ascii(model)"
      ],
      "metadata": {
        "colab": {
          "base_uri": "https://localhost:8080/"
        },
        "id": "-IyWZnoYCCFW",
        "outputId": "cfaef1c9-d5d1-4f05-9384-168eb90cfbbf"
      },
      "execution_count": null,
      "outputs": [
        {
          "output_type": "stream",
          "name": "stdout",
          "text": [
            "           OPERATION           DATA DIMENSIONS   WEIGHTS(N)   WEIGHTS(%)\n",
            "\n",
            "               Input   #####     34    1\n",
            "           SimpleRNN   ????? -------------------      1224    97.2%\n",
            "                relu   #####          34\n",
            "             Dropout    | || -------------------         0     0.0%\n",
            "                       #####          34\n",
            "               Dense   XXXXX -------------------        35     2.8%\n",
            "                relu   #####           1\n"
          ]
        }
      ]
    },
    {
      "cell_type": "markdown",
      "source": [
        "Model 7: LSTM"
      ],
      "metadata": {
        "id": "aJqOC4kpwpJk"
      }
    },
    {
      "cell_type": "code",
      "source": [
        "# LSTM Model\n",
        "model = Sequential()\n",
        "\n",
        "model.add(Embedding(34,34)) \n",
        "\n",
        "#LSTM\n",
        "model.add(LSTM(100,activation = \"relu\", return_sequences=True))\n",
        "model.add(LSTM(100,activation = \"relu\"))\n",
        "\n",
        "#Dropout\n",
        "model.add(Dropout(rate=0.2))\n",
        "\n",
        "model.add(Dense(1,activation=\"relu\"))"
      ],
      "metadata": {
        "id": "TVFLPZz68SOB"
      },
      "execution_count": null,
      "outputs": []
    },
    {
      "cell_type": "code",
      "source": [
        "model.summary()"
      ],
      "metadata": {
        "colab": {
          "base_uri": "https://localhost:8080/"
        },
        "id": "qZCGZKl786Of",
        "outputId": "c6f219fe-70a7-401e-b56b-04dd73172475"
      },
      "execution_count": null,
      "outputs": [
        {
          "output_type": "stream",
          "name": "stdout",
          "text": [
            "Model: \"sequential_3\"\n",
            "_________________________________________________________________\n",
            " Layer (type)                Output Shape              Param #   \n",
            "=================================================================\n",
            " embedding (Embedding)       (None, None, 34)          1156      \n",
            "                                                                 \n",
            " lstm (LSTM)                 (None, None, 100)         54000     \n",
            "                                                                 \n",
            " lstm_1 (LSTM)               (None, 100)               80400     \n",
            "                                                                 \n",
            " dropout_1 (Dropout)         (None, 100)               0         \n",
            "                                                                 \n",
            " dense_12 (Dense)            (None, 1)                 101       \n",
            "                                                                 \n",
            "=================================================================\n",
            "Total params: 135,657\n",
            "Trainable params: 135,657\n",
            "Non-trainable params: 0\n",
            "_________________________________________________________________\n"
          ]
        }
      ]
    },
    {
      "cell_type": "code",
      "source": [
        "model.compile(loss='binary_crossentropy', optimizer='adam', metrics=['acc'])"
      ],
      "metadata": {
        "id": "E2CknJYL87pV"
      },
      "execution_count": null,
      "outputs": []
    },
    {
      "cell_type": "code",
      "source": [
        "history = model.fit(X_train, y_train_smote, epochs=10, batch_size=32, validation_data=(X_test,y_test))"
      ],
      "metadata": {
        "colab": {
          "base_uri": "https://localhost:8080/"
        },
        "id": "nWQl0JQC884O",
        "outputId": "c15f6d1f-5d49-42bf-e45b-fdf920d3a013"
      },
      "execution_count": null,
      "outputs": [
        {
          "output_type": "stream",
          "name": "stdout",
          "text": [
            "Epoch 1/10\n",
            "1747/1747 [==============================] - 117s 66ms/step - loss: 0.3067 - acc: 0.8818 - val_loss: 0.3688 - val_acc: 0.8825\n",
            "Epoch 2/10\n",
            "1747/1747 [==============================] - 115s 66ms/step - loss: 0.2527 - acc: 0.9066 - val_loss: 0.4177 - val_acc: 0.8683\n",
            "Epoch 3/10\n",
            "1747/1747 [==============================] - 115s 66ms/step - loss: 0.2208 - acc: 0.9169 - val_loss: 0.3393 - val_acc: 0.8830\n",
            "Epoch 4/10\n",
            "1747/1747 [==============================] - 112s 64ms/step - loss: 0.2317 - acc: 0.9139 - val_loss: 0.3287 - val_acc: 0.8834\n",
            "Epoch 5/10\n",
            "1747/1747 [==============================] - 114s 65ms/step - loss: 0.2176 - acc: 0.9175 - val_loss: 0.3237 - val_acc: 0.8838\n",
            "Epoch 6/10\n",
            "1747/1747 [==============================] - 114s 65ms/step - loss: 0.2459 - acc: 0.9145 - val_loss: 0.3218 - val_acc: 0.8841\n",
            "Epoch 7/10\n",
            "1747/1747 [==============================] - 114s 65ms/step - loss: 0.2153 - acc: 0.9180 - val_loss: 0.3217 - val_acc: 0.8830\n",
            "Epoch 8/10\n",
            "1747/1747 [==============================] - 114s 65ms/step - loss: 0.2166 - acc: 0.9179 - val_loss: 0.3198 - val_acc: 0.8835\n",
            "Epoch 9/10\n",
            "1747/1747 [==============================] - 112s 64ms/step - loss: 0.2120 - acc: 0.9185 - val_loss: 0.3144 - val_acc: 0.8848\n",
            "Epoch 10/10\n",
            "1747/1747 [==============================] - 115s 66ms/step - loss: 0.2112 - acc: 0.9195 - val_loss: 0.3167 - val_acc: 0.8855\n"
          ]
        }
      ]
    },
    {
      "cell_type": "code",
      "source": [
        "# to plot the accuracy and loss for train and test \n",
        "import matplotlib.pyplot as plt\n",
        "\n",
        "acc = history.history['acc']\n",
        "val_acc = history.history['val_acc']\n",
        "loss = history.history['loss']\n",
        "val_loss = history.history['val_loss']\n",
        "\n",
        "epochs = range(1, len(acc)+1)\n",
        "\n",
        "plt.plot(epochs, acc, 'b', label = \"Train Accuracy\")\n",
        "plt.plot(epochs, val_acc, 'r', label = \"Test Accuracy\")\n",
        "plt.legend()\n",
        "plt.figure()\n",
        "plt.plot(epochs, loss, 'b', label = \"Train Loss\")\n",
        "plt.plot(epochs, val_loss, 'r', label = \"Test Loss\")\n",
        "plt.legend()\n",
        "plt.show()"
      ],
      "metadata": {
        "colab": {
          "base_uri": "https://localhost:8080/",
          "height": 513
        },
        "id": "9cfKpHfbBmtM",
        "outputId": "0435c560-977a-470f-8a5f-39177b90ce38"
      },
      "execution_count": null,
      "outputs": [
        {
          "output_type": "display_data",
          "data": {
            "text/plain": [
              "<Figure size 432x288 with 1 Axes>"
            ],
            "image/png": "[encoded data removed]"
          },
          "metadata": {
            "needs_background": "light"
          }
        },
        {
          "output_type": "display_data",
          "data": {
            "text/plain": [
              "<Figure size 432x288 with 1 Axes>"
            ],
            "image/png": "[encoded data removed]"
          },
          "metadata": {
            "needs_background": "light"
          }
        }
      ]
    },
    {
      "cell_type": "code",
      "source": [
        "# carry out predictions\n",
        "model7_y_pred = model.predict(X_test)\n",
        "model7_y_pred = (model7_y_pred > 0.5)"
      ],
      "metadata": {
        "id": "eLH-iFfsB2Yn"
      },
      "execution_count": null,
      "outputs": []
    },
    {
      "cell_type": "code",
      "source": [
        "# performance evaluation (confusion matrix)\n",
        "from sklearn.metrics import confusion_matrix\n",
        "m7_confusion_matrix = confusion_matrix(y_test, model7_y_pred)\n",
        "m7_confusion_matrix #print confusion matrix"
      ],
      "metadata": {
        "colab": {
          "base_uri": "https://localhost:8080/"
        },
        "id": "ikb9BzuCB8Ac",
        "outputId": "41fdf3f2-95c7-4cad-a53f-126ebed03618"
      },
      "execution_count": null,
      "outputs": [
        {
          "output_type": "execute_result",
          "data": {
            "text/plain": [
              "array([[11797,   180],\n",
              "       [ 1373,   214]])"
            ]
          },
          "metadata": {},
          "execution_count": 49
        }
      ]
    },
    {
      "cell_type": "code",
      "source": [
        "# Performance evaluation metrics (report)\n",
        "from sklearn.metrics import classification_report\n",
        "print(classification_report(y_test,model7_y_pred))"
      ],
      "metadata": {
        "colab": {
          "base_uri": "https://localhost:8080/"
        },
        "id": "spz8u482B9oz",
        "outputId": "7c915692-6ae7-4af3-819e-808a70b31e94"
      },
      "execution_count": null,
      "outputs": [
        {
          "output_type": "stream",
          "name": "stdout",
          "text": [
            "              precision    recall  f1-score   support\n",
            "\n",
            "           0       0.90      0.98      0.94     11977\n",
            "           1       0.54      0.13      0.22      1587\n",
            "\n",
            "    accuracy                           0.89     13564\n",
            "   macro avg       0.72      0.56      0.58     13564\n",
            "weighted avg       0.85      0.89      0.85     13564\n",
            "\n"
          ]
        }
      ]
    },
    {
      "cell_type": "code",
      "source": [
        "# visualise the ANN architecture\n",
        "from keras.utils.vis_utils import plot_model\n",
        "\n",
        "plot_model(model,to_file=\"model7.png\",show_shapes=True,show_layer_names=True)"
      ],
      "metadata": {
        "colab": {
          "base_uri": "https://localhost:8080/",
          "height": 644
        },
        "id": "2qkCFDa9CCXO",
        "outputId": "09006f60-7791-47aa-9e1a-646db75ebb8d"
      },
      "execution_count": null,
      "outputs": [
        {
          "output_type": "execute_result",
          "data": {
            "text/plain": [
              "<IPython.core.display.Image object>"
            ],
            "image/png": "[encoded data removed]"
          },
          "metadata": {},
          "execution_count": 51
        }
      ]
    }
  ]
}